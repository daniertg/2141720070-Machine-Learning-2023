{
  "cells": [
    {
      "cell_type": "markdown",
      "metadata": {
        "id": "3T22ueImYnFF"
      },
      "source": [
        "## **Jobsheet 10, Recurent Neural Network (RNN)**\n"
      ]
    },
    {
      "cell_type": "markdown",
      "source": [
        "### **Praktikum 1**"
      ],
      "metadata": {
        "id": "1633V2cVEfVD"
      }
    },
    {
      "cell_type": "markdown",
      "source": [
        "#### **Setup**"
      ],
      "metadata": {
        "id": "7ALUnzHwEcyr"
      }
    },
    {
      "cell_type": "code",
      "execution_count": 1,
      "metadata": {
        "id": "iy_uZ_K2YnFM"
      },
      "outputs": [],
      "source": [
        "import numpy as np\n",
        "import tensorflow_datasets as tfds\n",
        "import tensorflow as tf\n",
        "\n",
        "tfds.disable_progress_bar()"
      ]
    },
    {
      "cell_type": "code",
      "execution_count": 2,
      "metadata": {
        "id": "3Xc4O7i2Yw3U"
      },
      "outputs": [],
      "source": [
        "import matplotlib.pyplot as plt\n",
        "\n",
        "def plot_graphs(history, metric):\n",
        "  plt.plot(history.history[metric])\n",
        "  plt.plot(history.history['val_'+metric], '')\n",
        "  plt.xlabel(\"Epochs\")\n",
        "  plt.ylabel(metric)\n",
        "  plt.legend([metric, 'val_'+metric])"
      ]
    },
    {
      "cell_type": "markdown",
      "metadata": {
        "id": "tcQZqdmPY9y9"
      },
      "source": [
        "#### **Setup input pipeline**\n",
        "\n",
        "Dataset ulasan film IMDB adalah kumpulan data klasifikasi biner—semua ulasan memiliki sentimen positif atau negatif. <p>\n",
        "Download dataset menggunakan TFDS. Lihat loading text tutorial jika ingin me load data secara manual"
      ]
    },
    {
      "cell_type": "code",
      "execution_count": 3,
      "metadata": {
        "colab": {
          "base_uri": "https://localhost:8080/"
        },
        "id": "1iFaqowFY9gv",
        "outputId": "a753284b-00fd-4a36-9f46-11eb439d2a91"
      },
      "outputs": [
        {
          "output_type": "stream",
          "name": "stdout",
          "text": [
            "Downloading and preparing dataset 80.23 MiB (download: 80.23 MiB, generated: Unknown size, total: 80.23 MiB) to /root/tensorflow_datasets/imdb_reviews/plain_text/1.0.0...\n",
            "Dataset imdb_reviews downloaded and prepared to /root/tensorflow_datasets/imdb_reviews/plain_text/1.0.0. Subsequent calls will reuse this data.\n"
          ]
        },
        {
          "output_type": "execute_result",
          "data": {
            "text/plain": [
              "(TensorSpec(shape=(), dtype=tf.string, name=None),\n",
              " TensorSpec(shape=(), dtype=tf.int64, name=None))"
            ]
          },
          "metadata": {},
          "execution_count": 3
        }
      ],
      "source": [
        "dataset, info = tfds.load('imdb_reviews', with_info=True,\n",
        "                          as_supervised=True)\n",
        "train_dataset, test_dataset = dataset['train'], dataset['test']\n",
        "\n",
        "train_dataset.element_spec"
      ]
    },
    {
      "cell_type": "markdown",
      "metadata": {
        "id": "P8h2lWBgZZLT"
      },
      "source": [
        "Awalnya ini mengembalikan dataset (teks, pasangan label):"
      ]
    },
    {
      "cell_type": "code",
      "execution_count": 4,
      "metadata": {
        "colab": {
          "base_uri": "https://localhost:8080/"
        },
        "id": "wR2E19Q3ZbU2",
        "outputId": "04b178d0-c744-4fa1-fb44-38403e0c63ef"
      },
      "outputs": [
        {
          "output_type": "stream",
          "name": "stdout",
          "text": [
            "text:  b\"This was an absolutely terrible movie. Don't be lured in by Christopher Walken or Michael Ironside. Both are great actors, but this must simply be their worst role in history. Even their great acting could not redeem this movie's ridiculous storyline. This movie is an early nineties US propaganda piece. The most pathetic scenes were those when the Columbian rebels were making their cases for revolutions. Maria Conchita Alonso appeared phony, and her pseudo-love affair with Walken was nothing but a pathetic emotional plug in a movie that was devoid of any real meaning. I am disappointed that there are movies like this, ruining actor's like Christopher Walken's good name. I could barely sit through it.\"\n",
            "label:  0\n"
          ]
        }
      ],
      "source": [
        "for example, label in train_dataset.take(1):\n",
        "  print('text: ', example.numpy())\n",
        "  print('label: ', label.numpy())"
      ]
    },
    {
      "cell_type": "code",
      "execution_count": 5,
      "metadata": {
        "colab": {
          "base_uri": "https://localhost:8080/"
        },
        "id": "tcn_ylGSZe4E",
        "outputId": "c4fa53cc-2981-488d-b413-6a77d2ce128e"
      },
      "outputs": [
        {
          "output_type": "stream",
          "name": "stdout",
          "text": [
            "text:  b\"This was an absolutely terrible movie. Don't be lured in by Christopher Walken or Michael Ironside. Both are great actors, but this must simply be their worst role in history. Even their great acting could not redeem this movie's ridiculous storyline. This movie is an early nineties US propaganda piece. The most pathetic scenes were those when the Columbian rebels were making their cases for revolutions. Maria Conchita Alonso appeared phony, and her pseudo-love affair with Walken was nothing but a pathetic emotional plug in a movie that was devoid of any real meaning. I am disappointed that there are movies like this, ruining actor's like Christopher Walken's good name. I could barely sit through it.\"\n",
            "label:  0\n"
          ]
        }
      ],
      "source": [
        "for example, label in train_dataset.take(1):\n",
        "  print('text: ', example.numpy())\n",
        "  print('label: ', label.numpy())"
      ]
    },
    {
      "cell_type": "markdown",
      "metadata": {
        "id": "spD206NVZd4-"
      },
      "source": [
        "Berikutnya acak data untuk pelatihan dan membuat kumpulan pasangan (teks, label) ini:"
      ]
    },
    {
      "cell_type": "code",
      "execution_count": 6,
      "metadata": {
        "colab": {
          "base_uri": "https://localhost:8080/"
        },
        "id": "iWl5iNn7Zjwi",
        "outputId": "141b4e4b-ae32-4890-b22c-74cbab49537b"
      },
      "outputs": [
        {
          "output_type": "stream",
          "name": "stdout",
          "text": [
            "texts:  [b'Mal\\xc3\\xa9fique is a very interesting movie. It is an unholy alloy of triumphs and failures. The central concept is great, three inmates with bizarre personalities are joined by a fourth (who the audience identify with) and they try to escape from their cell using a book of magic that they find within the walls of the cell.<br /><br />The atmosphere is well-woven, it reminds me of reading about the prison stay of Edmond Dantes\\' in the Ch\\xc3\\xa2teau d\\'If (prior to becoming the Count of Monte Cristo). The director sets up the feeling that the characters are tied to the cell, particularly the character we are meant to identify with (Carr\\xc3\\xa8re - a white-collar criminal whose crime is not specified, but it\\'s obliquely suggested might be fraud). On one occasion Carr\\xc3\\xa8re dithers when leaving the cell for exercise and has the cell door shut on him; we never leave the cell, the claustrophobia is unbroken. There are also no shots of the prison outside the cell, and the view through the bars is a longing sunset over a generic prison wall. So even though the film appears to be very modern, it has a very old world feel of incarceration.<br /><br />The characters are intriguing. We have Marcus, a violent pre-op transsexual who plays an abusive mother to P\\xc3\\xa2querette (French for Daisy) a heavily retarded young man. P\\xc3\\xa2querette likes to eat everything he finds beautiful, and unfortunately this included his baby sister, hence his current predicament (I like this comment on internalisation, very primitive). Lasalle is a withdrawn, possessed elderly man, in for brutally murdering his wife.<br /><br />The central message of the movie is that your desires will annihilate you, and there\\'s a ritual that goes with that. I think that\\'s what disturbs me the most, seeing people destroying themselves ritualistically. It has a real life ring to it. The quite simple soundtrack backs this up well, every step deeper into the quicksand is accompanied by the dull ringing of a gong. I\\'m actually hearing the gong now every time I do something self-destructive.<br /><br />I think one of the plot problems is that the ends of the characters don\\'t really reinforce the message consistently, particularly with Carr\\xc3\\xa8re, also the concept of the book seems to alter throughout the film, not in terms of a successive revelation either. I also think that some of the images we see are a bit amateurish, more by design than execution, such as the famous \"vagina eye\", and the sodomy of Lasalle, for me, totally hollow images.<br /><br />At the end the movie it feels like the director is in a rush to get it over with, and some things don\\'t seem logical, for example we\\'ve been clumsily led to believe different things about Carr\\xc3\\xa8re\\'s child. This doesn\\'t change the fact though that what we have here is that rare bird, a \"pure\" horror movie. There is no comedic dross or genre segueing, like Cube (1997/Natali), the obvious movie to compare it to, it\\'s a total immersion experience, where you feel as if you are in the cell with the characters. This last comment I make about it being a \"pure\" experience I think is something others have mentioned as well so that is a fairly unanimous point.<br /><br />On a personal note my favourite part of the film is when Lasalle talks about his past as a librarian. He very vividly describes a scene where he goes to work one day and sits down in his usual place in the centre of a room where all the books are arranged in a circle around him. The books seem to be chanting to him that he will never contain their knowledge. This prompts Lasalle to go insane. That really is the problem with an obsession with understanding and knowledge. It\\'s something I myself have felt.<br /><br />One final comment is that two of the quite well-received comments on the board have confused the characters\\' names. To convince yourself that Lasalle is the older librarian character, simply click on Philippe Laudenbach\\'s page and you will see he was born in 1936.'\n",
            " b'I have rarely been subjected to such outright nonsense in a film that is supposed to be based on a historical figure. A horrible joke of a film, I cringed throughout. Terrible, trite, distorted and riddled with outright lies and half truths.<br /><br />The famous Hitler biographer Ian Kershaw was to originally be a consultant for this film. However, he found the script to be so historically inaccurate and ridiculous that he refused, and also demanded they stop using his name as a source (it embarrassed him to think people would think he was involved).<br /><br />One scene shows Hitler beating his dog. There is not one source for this. Hitler loved animals above people. He brought in the strictest animal welfare laws in Europe, banned vivisection and animal experimentation. He was also a vegetarian.<br /><br />The film turns his gaining of the Iron Cross into a farce, involving bribery. Utter lies. He was awarded it for repeated acts of bravery over a long period of time.<br /><br />There are no historical documents showing that Hitler ever had a sexual relationship with his niece. Not one.<br /><br />Apart from these, Hitler is portrayed as a rabid simpleton in this garbage flick.<br /><br />If he was even half as ignorant, demented and thick as he is in this nonsense film as in real life you would not even know he had ever existed. Never mind become the leader of Germany.<br /><br />Honestly, this film was utterly terrible.<br /><br />Go watch Downfall and give this a very wide berth.'\n",
            " b'\"Xizao\", is the tale about the clash of modern life and ancient traditions, and its effects on a family in China. Da Ming (Quanxiu Pu), is a businessman who returns home when a letter sent by his brother Er Ming (Wu Jiang) makes him believe that his father Liu (Xu Zhu), has died. He founds that his father is still alive, as well as his old neighborhood and his father old business, the public bathroom.<br /><br />The movie centers around Da Ming\\'s family, and how he has to learn the importance of his father\\'s job, something he always had considered an old tradition that had to die soon. Also, the movie explores his relationship with Er Ming, who is mentally challenged, and the problems of the small community and how the bathroom is a place that purifies not only their bodies, but also their souls.<br /><br />The two main themes of the movie, the family and the problems of progress, are incredibly well handled, and the movie never loses the point it is trying to make, both themes are very good developed and we get a glimpse of Chinese society and customs.<br /><br />The director, Yang Zhang, tells his tale in a simple way, letting the characters characters do the job. It is a very simple approach, but it fits the movie perfectly, and I highly doubt that another style would fit the movie this good. Zhang has enormous potential, as he can tell a story without the aid of visual flare or camera tricks.<br /><br />The acting is outstanding in its naturalistic approach, everyone acts in a very natural way and it almost looks as if they were real persons being filmed. The three lead characters give remarkable performances, and Wu Jiang as Er Ming surely steals the show.<br /><br />Even when the movie could had sticked to a patronizing \"old days were much better\" message, instead it takes an attitude of equilibrium, like saying that progress is good, and we must move on, but we must not forget where we came from, and keep an equilibrium between modern life and the traditions of old.<br /><br />An awesome, and touching film. 8/10']\n",
            "\n",
            "labels:  [1 0 1]\n"
          ]
        }
      ],
      "source": [
        "BUFFER_SIZE = 10000\n",
        "BATCH_SIZE = 64\n",
        "\n",
        "train_dataset = train_dataset.shuffle(BUFFER_SIZE).batch(BATCH_SIZE).prefetch(tf.data.AUTOTUNE)\n",
        "test_dataset = test_dataset.batch(BATCH_SIZE).prefetch(tf.data.AUTOTUNE)\n",
        "\n",
        "for example, label in train_dataset.take(1):\n",
        "  print('texts: ', example.numpy()[:3])\n",
        "  print()\n",
        "  print('labels: ', label.numpy()[:3])\n"
      ]
    },
    {
      "cell_type": "markdown",
      "metadata": {
        "id": "h3wWVkoCZouF"
      },
      "source": [
        "#### **Buat Teks Encoder**\n",
        "Teks mentah yang dimuat oleh tfds perlu diproses sebelum dapat digunakan dalam model. Cara termudah memproses teks untuk pelatihan adalah menggunakan lapisan TextVectorization. Lapisan ini memiliki banyak kemampuan, namun pada tutorial ini menggunakan perilaku default. Buat lapisan tersebut, dan teruskan teks kumpulan data ke metode .adapt lapisan:"
      ]
    },
    {
      "cell_type": "code",
      "execution_count": 7,
      "metadata": {
        "id": "ihxpxiMxZuRb"
      },
      "outputs": [],
      "source": [
        "VOCAB_SIZE = 1000\n",
        "encoder = tf.keras.layers.TextVectorization(\n",
        "    max_tokens=VOCAB_SIZE)\n",
        "encoder.adapt(train_dataset.map(lambda text, label: text))"
      ]
    },
    {
      "cell_type": "markdown",
      "metadata": {
        "id": "CJA3LitOZyPc"
      },
      "source": [
        "Metode .adapt mengatur kosakata lapisan. 20 token pertama dapat dilihat dengan kode berikut. Setelah padding dan token yang tidak diketahui, mereka diurutkan berdasarkan frekuensi:"
      ]
    },
    {
      "cell_type": "code",
      "execution_count": 8,
      "metadata": {
        "colab": {
          "base_uri": "https://localhost:8080/"
        },
        "id": "1wjfOSalZzx7",
        "outputId": "cac199a5-fb18-4ea1-a6cf-a0f75247dd5e"
      },
      "outputs": [
        {
          "output_type": "execute_result",
          "data": {
            "text/plain": [
              "array(['', '[UNK]', 'the', 'and', 'a', 'of', 'to', 'is', 'in', 'it', 'i',\n",
              "       'this', 'that', 'br', 'was', 'as', 'for', 'with', 'movie', 'but'],\n",
              "      dtype='<U14')"
            ]
          },
          "metadata": {},
          "execution_count": 8
        }
      ],
      "source": [
        "vocab = np.array(encoder.get_vocabulary())\n",
        "vocab[:20]"
      ]
    },
    {
      "cell_type": "markdown",
      "metadata": {
        "id": "bl7MNmVrZ_QD"
      },
      "source": [
        "Setelah kosakata diatur, lapisan dapat mengkodekan teks ke dalam indeks. Tensor indeks diberi bantalan 0 ke urutan terpanjang dalam batch (kecuali jika Anda menetapkan output_sequence_length tetap):"
      ]
    },
    {
      "cell_type": "code",
      "execution_count": 9,
      "metadata": {
        "colab": {
          "base_uri": "https://localhost:8080/"
        },
        "id": "00hV19QxaBKq",
        "outputId": "7a18172f-ecff-4e8c-cc1e-3f749d590522"
      },
      "outputs": [
        {
          "output_type": "execute_result",
          "data": {
            "text/plain": [
              "array([[ 1,  7,  4, ...,  0,  0,  0],\n",
              "       [10, 26,  1, ...,  0,  0,  0],\n",
              "       [ 1,  7,  2, ...,  0,  0,  0]])"
            ]
          },
          "metadata": {},
          "execution_count": 9
        }
      ],
      "source": [
        "encoded_example = encoder(example)[:3].numpy()\n",
        "encoded_example"
      ]
    },
    {
      "cell_type": "markdown",
      "metadata": {
        "id": "SDKuJ5T5aGis"
      },
      "source": [
        "Dengan pengaturan default, prosesnya tidak dapat dibalik sepenuhnya. Ada dua alasan utama untuk itu: <p>\n",
        "- Nilai default untuk argumen standarisasi preprocessing.TextVectorization adalah \"lower_and_strip_punctuation\".\n",
        "- Ukuran kosa kata yang terbatas dan kurangnya fallback berbasis karakter menghasilkan beberapa token yang tidak diketahui."
      ]
    },
    {
      "cell_type": "code",
      "execution_count": 10,
      "metadata": {
        "colab": {
          "base_uri": "https://localhost:8080/"
        },
        "id": "QsV3jie5aKzu",
        "outputId": "86bdb4ee-d340-49ab-abc2-bc3911ebb941"
      },
      "outputs": [
        {
          "output_type": "stream",
          "name": "stdout",
          "text": [
            "Original:  b'Mal\\xc3\\xa9fique is a very interesting movie. It is an unholy alloy of triumphs and failures. The central concept is great, three inmates with bizarre personalities are joined by a fourth (who the audience identify with) and they try to escape from their cell using a book of magic that they find within the walls of the cell.<br /><br />The atmosphere is well-woven, it reminds me of reading about the prison stay of Edmond Dantes\\' in the Ch\\xc3\\xa2teau d\\'If (prior to becoming the Count of Monte Cristo). The director sets up the feeling that the characters are tied to the cell, particularly the character we are meant to identify with (Carr\\xc3\\xa8re - a white-collar criminal whose crime is not specified, but it\\'s obliquely suggested might be fraud). On one occasion Carr\\xc3\\xa8re dithers when leaving the cell for exercise and has the cell door shut on him; we never leave the cell, the claustrophobia is unbroken. There are also no shots of the prison outside the cell, and the view through the bars is a longing sunset over a generic prison wall. So even though the film appears to be very modern, it has a very old world feel of incarceration.<br /><br />The characters are intriguing. We have Marcus, a violent pre-op transsexual who plays an abusive mother to P\\xc3\\xa2querette (French for Daisy) a heavily retarded young man. P\\xc3\\xa2querette likes to eat everything he finds beautiful, and unfortunately this included his baby sister, hence his current predicament (I like this comment on internalisation, very primitive). Lasalle is a withdrawn, possessed elderly man, in for brutally murdering his wife.<br /><br />The central message of the movie is that your desires will annihilate you, and there\\'s a ritual that goes with that. I think that\\'s what disturbs me the most, seeing people destroying themselves ritualistically. It has a real life ring to it. The quite simple soundtrack backs this up well, every step deeper into the quicksand is accompanied by the dull ringing of a gong. I\\'m actually hearing the gong now every time I do something self-destructive.<br /><br />I think one of the plot problems is that the ends of the characters don\\'t really reinforce the message consistently, particularly with Carr\\xc3\\xa8re, also the concept of the book seems to alter throughout the film, not in terms of a successive revelation either. I also think that some of the images we see are a bit amateurish, more by design than execution, such as the famous \"vagina eye\", and the sodomy of Lasalle, for me, totally hollow images.<br /><br />At the end the movie it feels like the director is in a rush to get it over with, and some things don\\'t seem logical, for example we\\'ve been clumsily led to believe different things about Carr\\xc3\\xa8re\\'s child. This doesn\\'t change the fact though that what we have here is that rare bird, a \"pure\" horror movie. There is no comedic dross or genre segueing, like Cube (1997/Natali), the obvious movie to compare it to, it\\'s a total immersion experience, where you feel as if you are in the cell with the characters. This last comment I make about it being a \"pure\" experience I think is something others have mentioned as well so that is a fairly unanimous point.<br /><br />On a personal note my favourite part of the film is when Lasalle talks about his past as a librarian. He very vividly describes a scene where he goes to work one day and sits down in his usual place in the centre of a room where all the books are arranged in a circle around him. The books seem to be chanting to him that he will never contain their knowledge. This prompts Lasalle to go insane. That really is the problem with an obsession with understanding and knowledge. It\\'s something I myself have felt.<br /><br />One final comment is that two of the quite well-received comments on the board have confused the characters\\' names. To convince yourself that Lasalle is the older librarian character, simply click on Philippe Laudenbach\\'s page and you will see he was born in 1936.'\n",
            "Round-trip:  [UNK] is a very interesting movie it is an [UNK] [UNK] of [UNK] and [UNK] the [UNK] [UNK] is great three [UNK] with [UNK] [UNK] are [UNK] by a [UNK] who the audience [UNK] with and they try to [UNK] from their [UNK] using a book of [UNK] that they find within the [UNK] of the [UNK] br the atmosphere is [UNK] it [UNK] me of reading about the [UNK] stay of [UNK] [UNK] in the [UNK] [UNK] [UNK] to [UNK] the [UNK] of [UNK] [UNK] the director sets up the feeling that the characters are [UNK] to the [UNK] particularly the character we are meant to [UNK] with [UNK] a [UNK] [UNK] whose crime is not [UNK] but its [UNK] [UNK] might be [UNK] on one [UNK] [UNK] [UNK] when [UNK] the [UNK] for [UNK] and has the [UNK] [UNK] [UNK] on him we never leave the [UNK] the [UNK] is [UNK] there are also no shots of the [UNK] outside the [UNK] and the view through the [UNK] is a [UNK] [UNK] over a [UNK] [UNK] [UNK] so even though the film appears to be very modern it has a very old world feel of [UNK] br the characters are [UNK] we have [UNK] a [UNK] [UNK] [UNK] who plays an [UNK] mother to [UNK] french for [UNK] a [UNK] [UNK] young man [UNK] [UNK] to [UNK] everything he finds beautiful and unfortunately this [UNK] his baby sister [UNK] his [UNK] [UNK] i like this comment on [UNK] very [UNK] [UNK] is a [UNK] [UNK] [UNK] man in for [UNK] [UNK] his [UNK] br the [UNK] message of the movie is that your [UNK] will [UNK] you and theres a [UNK] that goes with that i think thats what [UNK] me the most seeing people [UNK] themselves [UNK] it has a real life [UNK] to it the quite simple soundtrack [UNK] this up well every [UNK] [UNK] into the [UNK] is [UNK] by the dull [UNK] of a [UNK] im actually [UNK] the [UNK] now every time i do something [UNK] br i think one of the plot problems is that the ends of the characters dont really [UNK] the message [UNK] particularly with [UNK] also the [UNK] of the book seems to [UNK] throughout the film not in [UNK] of a [UNK] [UNK] either i also think that some of the [UNK] we see are a bit [UNK] more by [UNK] than [UNK] such as the famous [UNK] eye and the [UNK] of [UNK] for me totally [UNK] [UNK] br at the end the movie it feels like the director is in a [UNK] to get it over with and some things dont seem [UNK] for example [UNK] been [UNK] [UNK] to believe different things about [UNK] child this doesnt change the fact though that what we have here is that [UNK] [UNK] a [UNK] horror movie there is no [UNK] [UNK] or genre [UNK] like [UNK] [UNK] the obvious movie to [UNK] it to its a total [UNK] experience where you feel as if you are in the [UNK] with the characters this last comment i make about it being a [UNK] experience i think is something others have [UNK] as well so that is a fairly [UNK] [UNK] br on a personal note my [UNK] part of the film is when [UNK] [UNK] about his past as a [UNK] he very [UNK] [UNK] a scene where he goes to work one day and [UNK] down in his usual place in the [UNK] of a room where all the [UNK] are [UNK] in a [UNK] around him the [UNK] seem to be [UNK] to him that he will never [UNK] their [UNK] this [UNK] [UNK] to go [UNK] that really is the problem with an [UNK] with [UNK] and [UNK] its something i myself have [UNK] br one final comment is that two of the quite [UNK] comments on the [UNK] have [UNK] the characters [UNK] to [UNK] yourself that [UNK] is the older [UNK] character simply [UNK] on [UNK] [UNK] [UNK] and you will see he was [UNK] in [UNK]                                                                                                                                                                                                                                                                                    \n",
            "\n",
            "Original:  b'I have rarely been subjected to such outright nonsense in a film that is supposed to be based on a historical figure. A horrible joke of a film, I cringed throughout. Terrible, trite, distorted and riddled with outright lies and half truths.<br /><br />The famous Hitler biographer Ian Kershaw was to originally be a consultant for this film. However, he found the script to be so historically inaccurate and ridiculous that he refused, and also demanded they stop using his name as a source (it embarrassed him to think people would think he was involved).<br /><br />One scene shows Hitler beating his dog. There is not one source for this. Hitler loved animals above people. He brought in the strictest animal welfare laws in Europe, banned vivisection and animal experimentation. He was also a vegetarian.<br /><br />The film turns his gaining of the Iron Cross into a farce, involving bribery. Utter lies. He was awarded it for repeated acts of bravery over a long period of time.<br /><br />There are no historical documents showing that Hitler ever had a sexual relationship with his niece. Not one.<br /><br />Apart from these, Hitler is portrayed as a rabid simpleton in this garbage flick.<br /><br />If he was even half as ignorant, demented and thick as he is in this nonsense film as in real life you would not even know he had ever existed. Never mind become the leader of Germany.<br /><br />Honestly, this film was utterly terrible.<br /><br />Go watch Downfall and give this a very wide berth.'\n",
            "Round-trip:  i have [UNK] been [UNK] to such [UNK] [UNK] in a film that is supposed to be based on a [UNK] figure a horrible joke of a film i [UNK] throughout terrible [UNK] [UNK] and [UNK] with [UNK] [UNK] and half [UNK] br the famous [UNK] [UNK] [UNK] [UNK] was to [UNK] be a [UNK] for this film however he found the script to be so [UNK] [UNK] and ridiculous that he [UNK] and also [UNK] they stop using his name as a [UNK] it [UNK] him to think people would think he was [UNK] br one scene shows [UNK] [UNK] his dog there is not one [UNK] for this [UNK] loved [UNK] above people he brought in the [UNK] [UNK] [UNK] [UNK] in [UNK] [UNK] [UNK] and [UNK] [UNK] he was also a [UNK] br the film turns his [UNK] of the [UNK] [UNK] into a [UNK] [UNK] [UNK] [UNK] [UNK] he was [UNK] it for [UNK] [UNK] of [UNK] over a long period of [UNK] br there are no [UNK] [UNK] showing that [UNK] ever had a sexual relationship with his [UNK] not [UNK] br apart from these [UNK] is portrayed as a [UNK] [UNK] in this [UNK] [UNK] br if he was even half as [UNK] [UNK] and [UNK] as he is in this [UNK] film as in real life you would not even know he had ever [UNK] never mind become the [UNK] of [UNK] br [UNK] this film was [UNK] [UNK] br go watch [UNK] and give this a very [UNK] [UNK]                                                                                                                                                                                                                                                                                                                                                                                                                                                                                                                                                                                                                                                                                                                                \n",
            "\n",
            "Original:  b'\"Xizao\", is the tale about the clash of modern life and ancient traditions, and its effects on a family in China. Da Ming (Quanxiu Pu), is a businessman who returns home when a letter sent by his brother Er Ming (Wu Jiang) makes him believe that his father Liu (Xu Zhu), has died. He founds that his father is still alive, as well as his old neighborhood and his father old business, the public bathroom.<br /><br />The movie centers around Da Ming\\'s family, and how he has to learn the importance of his father\\'s job, something he always had considered an old tradition that had to die soon. Also, the movie explores his relationship with Er Ming, who is mentally challenged, and the problems of the small community and how the bathroom is a place that purifies not only their bodies, but also their souls.<br /><br />The two main themes of the movie, the family and the problems of progress, are incredibly well handled, and the movie never loses the point it is trying to make, both themes are very good developed and we get a glimpse of Chinese society and customs.<br /><br />The director, Yang Zhang, tells his tale in a simple way, letting the characters characters do the job. It is a very simple approach, but it fits the movie perfectly, and I highly doubt that another style would fit the movie this good. Zhang has enormous potential, as he can tell a story without the aid of visual flare or camera tricks.<br /><br />The acting is outstanding in its naturalistic approach, everyone acts in a very natural way and it almost looks as if they were real persons being filmed. The three lead characters give remarkable performances, and Wu Jiang as Er Ming surely steals the show.<br /><br />Even when the movie could had sticked to a patronizing \"old days were much better\" message, instead it takes an attitude of equilibrium, like saying that progress is good, and we must move on, but we must not forget where we came from, and keep an equilibrium between modern life and the traditions of old.<br /><br />An awesome, and touching film. 8/10'\n",
            "Round-trip:  [UNK] is the tale about the [UNK] of modern life and [UNK] [UNK] and its effects on a family in [UNK] [UNK] [UNK] [UNK] [UNK] is a [UNK] who [UNK] home when a [UNK] [UNK] by his brother [UNK] [UNK] [UNK] [UNK] makes him believe that his father [UNK] [UNK] [UNK] has [UNK] he [UNK] that his father is still [UNK] as well as his old [UNK] and his father old business the [UNK] [UNK] br the movie [UNK] around [UNK] [UNK] family and how he has to learn the [UNK] of his [UNK] job something he always had [UNK] an old [UNK] that had to die soon also the movie [UNK] his relationship with [UNK] [UNK] who is [UNK] [UNK] and the problems of the small [UNK] and how the [UNK] is a place that [UNK] not only their [UNK] but also their [UNK] br the two main [UNK] of the movie the family and the problems of [UNK] are incredibly well [UNK] and the movie never [UNK] the point it is trying to make both [UNK] are very good [UNK] and we get a [UNK] of [UNK] society and [UNK] br the director [UNK] [UNK] tells his tale in a simple way [UNK] the characters characters do the job it is a very simple [UNK] but it [UNK] the movie perfectly and i highly doubt that another style would [UNK] the movie this good [UNK] has [UNK] potential as he can tell a story without the [UNK] of [UNK] [UNK] or camera [UNK] br the acting is [UNK] in its [UNK] [UNK] everyone [UNK] in a very [UNK] way and it almost looks as if they were real [UNK] being filmed the three lead characters give [UNK] performances and [UNK] [UNK] as [UNK] [UNK] [UNK] [UNK] the [UNK] br even when the movie could had [UNK] to a [UNK] old days were much better message instead it takes an [UNK] of [UNK] like saying that [UNK] is good and we must move on but we must not forget where we came from and keep an [UNK] between modern life and the [UNK] of [UNK] br an [UNK] and [UNK] film [UNK]                                                                                                                                                                                                                                                                                                                                                                                                                                                                                                                                                                                                                      \n",
            "\n"
          ]
        }
      ],
      "source": [
        "for n in range(3):\n",
        "  print(\"Original: \", example[n].numpy())\n",
        "  print(\"Round-trip: \", \" \".join(vocab[encoded_example[n]]))\n",
        "  print()"
      ]
    },
    {
      "cell_type": "markdown",
      "metadata": {
        "id": "2OKwGoOVaOL1"
      },
      "source": [
        "#### **Buat Model**\n",
        "\n",
        "<img src = \"https://raw.githubusercontent.com/tensorflow/text/master/docs/tutorials/images/bidirectional.png\"><p>\n",
        "\n",
        "diagram model dapat dilihat pada gambar diatas\n",
        "\n",
        "1. Model ini dapat dibuat sebagai tf.keras.Sequential.\n",
        "2. Lapisan pertama adalah encoder, yang mengubah teks menjadi urutan indeks token.\n",
        "3. Setelah encoder adalah lapisan penyematan (embedding layer). Lapisan penyematan menyimpan satu vektor per kata. Saat dipanggil, ini mengubah rangkaian indeks kata menjadi rangkaian vektor. Vektor-vektor ini dapat dilatih. Setelah pelatihan (dengan data yang cukup), kata-kata dengan arti yang mirip sering kali memiliki vektor yang serupa. Pencarian indeks ini jauh lebih efisien daripada operasi setara dengan meneruskan vektor yang disandikan one-hot melalui lapisan tf.keras.layers.Dense.\n",
        "4. Jaringan saraf berulang (RNN) memproses masukan urutan dengan melakukan iterasi melalui elemen. RNN meneruskan keluaran dari satu langkah waktu ke masukannya pada langkah waktu berikutnya.\n",
        "Pembungkus tf.keras.layers.Bidirection juga dapat digunakan dengan lapisan RNN. Ini menyebarkan masukan maju dan mundur melalui lapisan RNN dan kemudian menggabungkan keluaran akhir.\n",
        "- Keuntungan utama RNN dua arah adalah sinyal dari awal masukan tidak perlu diproses sepanjang waktu untuk memengaruhi keluaran.\n",
        "- Kerugian utama dari RNN dua arah adalah Anda tidak dapat melakukan streaming prediksi secara efisien saat kata-kata ditambahkan di akhir.\n",
        "5. Setelah RNN mengonversi urutan menjadi satu vektor, kedua lapisan tersebut.Dense melakukan beberapa pemrosesan akhir, dan mengonversi representasi vektor ini menjadi logit tunggal sebagai keluaran klasifikasi.\n",
        "\n",
        "Kode nya adalah sebagai berikut :"
      ]
    },
    {
      "cell_type": "code",
      "execution_count": 11,
      "metadata": {
        "id": "r3dc5GRqbWfG"
      },
      "outputs": [],
      "source": [
        "model = tf.keras.Sequential([\n",
        "    encoder,\n",
        "    tf.keras.layers.Embedding(\n",
        "        input_dim=len(encoder.get_vocabulary()),\n",
        "        output_dim=64,\n",
        "        # Use masking to handle the variable sequence lengths\n",
        "        mask_zero=True),\n",
        "    tf.keras.layers.Bidirectional(tf.keras.layers.LSTM(64)),\n",
        "    tf.keras.layers.Dense(64, activation='relu'),\n",
        "    tf.keras.layers.Dense(1)\n",
        "])"
      ]
    },
    {
      "cell_type": "markdown",
      "metadata": {
        "id": "Ad80BtMNba_g"
      },
      "source": [
        "Harap dicatat bahwa model sekuensial Keras digunakan di sini karena semua lapisan dalam model hanya memiliki masukan tunggal dan menghasilkan keluaran tunggal. Jika Anda ingin menggunakan lapisan RNN stateful, Anda mungkin ingin membangun model Anda dengan API fungsional Keras atau subkelas model sehingga Anda dapat mengambil dan menggunakan kembali status lapisan RNN. Untuk detailnya bisa dilihat pada Keras RNN guide <p>\n",
        "Lapisan penyematan menggunakan masking (uses masking ) untuk menangani panjang urutan yang bervariasi. Semua lapisan setelah penyematan dukungan penyematan"
      ]
    },
    {
      "cell_type": "code",
      "execution_count": 12,
      "metadata": {
        "colab": {
          "base_uri": "https://localhost:8080/"
        },
        "id": "9Q7X-2opbd8U",
        "outputId": "f484837e-3b28-45ee-ce6b-8e140a863b5d"
      },
      "outputs": [
        {
          "output_type": "stream",
          "name": "stdout",
          "text": [
            "[False, True, True, True, True]\n"
          ]
        }
      ],
      "source": [
        "print([layer.supports_masking for layer in model.layers])"
      ]
    },
    {
      "cell_type": "markdown",
      "metadata": {
        "id": "etVSnxTjbqMb"
      },
      "source": [
        "Untuk memastikan bahwa ini berfungsi seperti yang diharapkan, evaluasi sebuah kalimat dua kali. Pertama, satu kalimat sehingga tidak ada bantalan (padding) untuk disamarkan:"
      ]
    },
    {
      "cell_type": "code",
      "execution_count": 13,
      "metadata": {
        "colab": {
          "base_uri": "https://localhost:8080/"
        },
        "id": "VFYkqhlHbsEE",
        "outputId": "24f40983-9505-48fb-a1be-2a5aa137d095"
      },
      "outputs": [
        {
          "output_type": "stream",
          "name": "stdout",
          "text": [
            "1/1 [==============================] - 9s 9s/step\n",
            "[-0.00198739]\n"
          ]
        }
      ],
      "source": [
        "# predict on a sample text without padding.\n",
        "\n",
        "sample_text = ('The movie was cool. The animation and the graphics '\n",
        "               'were out of this world. I would recommend this movie.')\n",
        "predictions = model.predict(np.array([sample_text]))\n",
        "print(predictions[0])"
      ]
    },
    {
      "cell_type": "markdown",
      "metadata": {
        "id": "kht5ferAbv_A"
      },
      "source": [
        "Sekarang, evaluasi lagi dalam batch dengan kalimat yang lebih panjang. Hasilnya harus sama:"
      ]
    },
    {
      "cell_type": "code",
      "execution_count": 14,
      "metadata": {
        "colab": {
          "base_uri": "https://localhost:8080/"
        },
        "id": "G4iRYVCZbxj4",
        "outputId": "856d858e-dac8-4744-e057-bc922c1537a9"
      },
      "outputs": [
        {
          "output_type": "stream",
          "name": "stdout",
          "text": [
            "1/1 [==============================] - 0s 84ms/step\n",
            "[-0.00198739]\n"
          ]
        }
      ],
      "source": [
        "# predict on a sample text with padding\n",
        "\n",
        "padding = \"the \" * 2000\n",
        "predictions = model.predict(np.array([sample_text, padding]))\n",
        "print(predictions[0])"
      ]
    },
    {
      "cell_type": "markdown",
      "metadata": {
        "id": "vxOiPdHFb0xA"
      },
      "source": [
        "compile model Keras untuk mengonfigurasi proses pelatihan:"
      ]
    },
    {
      "cell_type": "code",
      "execution_count": 15,
      "metadata": {
        "id": "MrpNXd9-b2aZ"
      },
      "outputs": [],
      "source": [
        "model.compile(loss=tf.keras.losses.BinaryCrossentropy(from_logits=True),\n",
        "              optimizer=tf.keras.optimizers.Adam(1e-4),\n",
        "              metrics=['accuracy'])"
      ]
    },
    {
      "cell_type": "markdown",
      "metadata": {
        "id": "r32QUWpJb4q2"
      },
      "source": [
        "#### **Train Mode**"
      ]
    },
    {
      "cell_type": "code",
      "execution_count": 16,
      "metadata": {
        "colab": {
          "base_uri": "https://localhost:8080/"
        },
        "id": "3Gc0rHELb7PR",
        "outputId": "4d32ed3f-e6d8-41a7-944c-e3dab8cc978f"
      },
      "outputs": [
        {
          "output_type": "stream",
          "name": "stdout",
          "text": [
            "Epoch 1/10\n",
            "391/391 [==============================] - 49s 99ms/step - loss: 0.6337 - accuracy: 0.5784 - val_loss: 0.4926 - val_accuracy: 0.7448\n",
            "Epoch 2/10\n",
            "391/391 [==============================] - 26s 65ms/step - loss: 0.4129 - accuracy: 0.8064 - val_loss: 0.3809 - val_accuracy: 0.8323\n",
            "Epoch 3/10\n",
            "391/391 [==============================] - 24s 60ms/step - loss: 0.3464 - accuracy: 0.8494 - val_loss: 0.3459 - val_accuracy: 0.8510\n",
            "Epoch 4/10\n",
            "391/391 [==============================] - 24s 61ms/step - loss: 0.3232 - accuracy: 0.8594 - val_loss: 0.3294 - val_accuracy: 0.8589\n",
            "Epoch 5/10\n",
            "391/391 [==============================] - 23s 57ms/step - loss: 0.3123 - accuracy: 0.8660 - val_loss: 0.3244 - val_accuracy: 0.8604\n",
            "Epoch 6/10\n",
            "391/391 [==============================] - 24s 60ms/step - loss: 0.3078 - accuracy: 0.8684 - val_loss: 0.3292 - val_accuracy: 0.8458\n",
            "Epoch 7/10\n",
            "391/391 [==============================] - 23s 57ms/step - loss: 0.3024 - accuracy: 0.8694 - val_loss: 0.3197 - val_accuracy: 0.8578\n",
            "Epoch 8/10\n",
            "391/391 [==============================] - 23s 59ms/step - loss: 0.3013 - accuracy: 0.8706 - val_loss: 0.3263 - val_accuracy: 0.8635\n",
            "Epoch 9/10\n",
            "391/391 [==============================] - 24s 61ms/step - loss: 0.2986 - accuracy: 0.8709 - val_loss: 0.3176 - val_accuracy: 0.8583\n",
            "Epoch 10/10\n",
            "391/391 [==============================] - 24s 61ms/step - loss: 0.2971 - accuracy: 0.8712 - val_loss: 0.3197 - val_accuracy: 0.8635\n"
          ]
        }
      ],
      "source": [
        "history = model.fit(train_dataset, epochs=10, validation_data=test_dataset, validation_steps=30)"
      ]
    },
    {
      "cell_type": "code",
      "execution_count": 17,
      "metadata": {
        "colab": {
          "base_uri": "https://localhost:8080/"
        },
        "id": "bCvpugENecQ0",
        "outputId": "f45c79f4-7dd6-4680-bf1d-3d6f210f62f5"
      },
      "outputs": [
        {
          "output_type": "stream",
          "name": "stdout",
          "text": [
            "391/391 [==============================] - 11s 28ms/step - loss: 0.3172 - accuracy: 0.8634\n",
            "Test Loss: 0.3172023892402649\n",
            "Test Accuracy: 0.8633999824523926\n"
          ]
        }
      ],
      "source": [
        "test_loss, test_acc = model.evaluate(test_dataset)\n",
        "\n",
        "print('Test Loss:', test_loss)\n",
        "print('Test Accuracy:', test_acc)"
      ]
    },
    {
      "cell_type": "code",
      "execution_count": 18,
      "metadata": {
        "colab": {
          "base_uri": "https://localhost:8080/",
          "height": 718
        },
        "id": "IqHTv_rF0tEZ",
        "outputId": "0ec6c99c-0cdd-426a-8dbb-1722e45862db"
      },
      "outputs": [
        {
          "output_type": "execute_result",
          "data": {
            "text/plain": [
              "(0.0, 0.6505196645855904)"
            ]
          },
          "metadata": {},
          "execution_count": 18
        },
        {
          "output_type": "display_data",
          "data": {
            "text/plain": [
              "<Figure size 1600x800 with 2 Axes>"
            ],
            "image/png": "[encoded data removed]"
          },
          "metadata": {}
        }
      ],
      "source": [
        "plt.figure(figsize=(16, 8))\n",
        "plt.subplot(1, 2, 1)\n",
        "plot_graphs(history, 'accuracy')\n",
        "plt.ylim(None, 1)\n",
        "plt.subplot(1, 2, 2)\n",
        "plot_graphs(history, 'loss')\n",
        "plt.ylim(0, None)"
      ]
    },
    {
      "cell_type": "markdown",
      "metadata": {
        "id": "D15DUX2O0oFT"
      },
      "source": [
        "Jalankan prediksi pada kalimat baru:<p>\n",
        "Jika prediksi >= 0,0 berarti positif, jika tidak maka negatif."
      ]
    },
    {
      "cell_type": "code",
      "execution_count": 19,
      "metadata": {
        "colab": {
          "base_uri": "https://localhost:8080/"
        },
        "id": "RqVwsnMD1WhC",
        "outputId": "6a10d0f9-6b1f-44b8-8521-79be9fd20c6e"
      },
      "outputs": [
        {
          "output_type": "stream",
          "name": "stdout",
          "text": [
            "1/1 [==============================] - 2s 2s/step\n",
            "[0.8897871]\n"
          ]
        }
      ],
      "source": [
        "\n",
        "sample_text = ('The movie was cool. The animation and the graphics '\n",
        "                'were out of this world. I would recommend this movie.')\n",
        "predictions = model.predict(np.array([sample_text]))\n",
        "print(predictions[0])"
      ]
    },
    {
      "cell_type": "markdown",
      "metadata": {
        "id": "kZ5eTzzI1eA0"
      },
      "source": [
        "#### **Stack two or more LSTM layers**\n",
        "Lapisan berulang Keras memiliki dua mode yang tersedia yang dikontrol oleh argumen konstruktor return_sequences :<p>\n",
        "- Jika False, ia hanya mengembalikan keluaran terakhir untuk setiap urutan masukan (bentuk tensor 2D (batch_size, output_features)). Ini adalah default yang digunakan pada model sebelumnya.\n",
        "- Jika True, Sequence lengkap output berturut-turut untuk setiap langkah waktu dikembalikan (bentuk tensor 3D (ukuran_batch, langkah waktu, fitur_output)).\n",
        "\n",
        "Berikut adalah alur informasi dengan return_sequences=True:\n",
        "\n",
        "<img src = \"https://www.tensorflow.org/static/text/tutorials/images/layered_bidirectional.png\"><p>"
      ]
    },
    {
      "cell_type": "markdown",
      "metadata": {
        "id": "Q5qb7idC1wII"
      },
      "source": [
        "Hal yang menarik dari penggunaan RNN dengan return_sequences=True adalah outputnya masih memiliki 3 axis, sama seperti inputnya, sehingga bisa diteruskan ke layer RNN lain, seperti ini:"
      ]
    },
    {
      "cell_type": "code",
      "execution_count": 20,
      "metadata": {
        "id": "DGe91DpH1xrD"
      },
      "outputs": [],
      "source": [
        "\n",
        "model = tf.keras.Sequential([\n",
        "    encoder,\n",
        "    tf.keras.layers.Embedding(len(encoder.get_vocabulary()), 64, mask_zero=True),\n",
        "    tf.keras.layers.Bidirectional(tf.keras.layers.LSTM(64, return_sequences=True)),\n",
        "    tf.keras.layers.Bidirectional(tf.keras.layers.LSTM(32)),\n",
        "    tf.keras.layers.Dense(64, activation='relu'),\n",
        "    tf.keras.layers.Dropout(0.5),\n",
        "    tf.keras.layers.Dense(1)\n",
        "])"
      ]
    },
    {
      "cell_type": "code",
      "execution_count": 21,
      "metadata": {
        "id": "6DcEBZzl19sE"
      },
      "outputs": [],
      "source": [
        "\n",
        "model.compile(loss=tf.keras.losses.BinaryCrossentropy(from_logits=True),\n",
        "              optimizer=tf.keras.optimizers.Adam(1e-4),\n",
        "              metrics=['accuracy'])"
      ]
    },
    {
      "cell_type": "code",
      "execution_count": 22,
      "metadata": {
        "colab": {
          "base_uri": "https://localhost:8080/"
        },
        "id": "PmDD1vG62IZv",
        "outputId": "2772699b-e374-40ad-f4eb-1f9ce0a40f8d"
      },
      "outputs": [
        {
          "output_type": "stream",
          "name": "stdout",
          "text": [
            "Epoch 1/10\n",
            "391/391 [==============================] - 79s 153ms/step - loss: 0.6286 - accuracy: 0.5786 - val_loss: 0.4351 - val_accuracy: 0.8156\n",
            "Epoch 2/10\n",
            "391/391 [==============================] - 43s 109ms/step - loss: 0.3805 - accuracy: 0.8340 - val_loss: 0.3594 - val_accuracy: 0.8495\n",
            "Epoch 3/10\n",
            "391/391 [==============================] - 44s 112ms/step - loss: 0.3403 - accuracy: 0.8530 - val_loss: 0.3341 - val_accuracy: 0.8526\n",
            "Epoch 4/10\n",
            "391/391 [==============================] - 44s 113ms/step - loss: 0.3186 - accuracy: 0.8626 - val_loss: 0.3244 - val_accuracy: 0.8630\n",
            "Epoch 5/10\n",
            "391/391 [==============================] - 44s 112ms/step - loss: 0.3114 - accuracy: 0.8664 - val_loss: 0.3299 - val_accuracy: 0.8500\n",
            "Epoch 6/10\n",
            "391/391 [==============================] - 47s 120ms/step - loss: 0.3080 - accuracy: 0.8675 - val_loss: 0.3253 - val_accuracy: 0.8557\n",
            "Epoch 7/10\n",
            "391/391 [==============================] - 43s 109ms/step - loss: 0.3027 - accuracy: 0.8679 - val_loss: 0.3188 - val_accuracy: 0.8557\n",
            "Epoch 8/10\n",
            "391/391 [==============================] - 44s 113ms/step - loss: 0.3025 - accuracy: 0.8694 - val_loss: 0.3193 - val_accuracy: 0.8443\n",
            "Epoch 9/10\n",
            "391/391 [==============================] - 46s 116ms/step - loss: 0.3019 - accuracy: 0.8706 - val_loss: 0.3278 - val_accuracy: 0.8589\n",
            "Epoch 10/10\n",
            "391/391 [==============================] - 44s 111ms/step - loss: 0.2955 - accuracy: 0.8696 - val_loss: 0.3208 - val_accuracy: 0.8609\n"
          ]
        }
      ],
      "source": [
        "\n",
        "history = model.fit(train_dataset, epochs=10,\n",
        "                    validation_data=test_dataset,\n",
        "                    validation_steps=30)"
      ]
    },
    {
      "cell_type": "code",
      "execution_count": 23,
      "metadata": {
        "colab": {
          "base_uri": "https://localhost:8080/"
        },
        "id": "U9oSdoALNmAC",
        "outputId": "c24b2571-64b2-4206-ce21-282fe1f48ef6"
      },
      "outputs": [
        {
          "output_type": "stream",
          "name": "stdout",
          "text": [
            "391/391 [==============================] - 20s 50ms/step - loss: 0.3217 - accuracy: 0.8620\n",
            "Test Loss: 0.3216647505760193\n",
            "Test Accuracy: 0.8619999885559082\n"
          ]
        }
      ],
      "source": [
        "test_loss, test_acc = model.evaluate(test_dataset)\n",
        "\n",
        "print('Test Loss:', test_loss)\n",
        "print('Test Accuracy:', test_acc)"
      ]
    },
    {
      "cell_type": "code",
      "execution_count": 24,
      "metadata": {
        "colab": {
          "base_uri": "https://localhost:8080/"
        },
        "id": "GkSSZTMMNwF3",
        "outputId": "c4e806ca-cb98-4707-9dff-bc1986160530"
      },
      "outputs": [
        {
          "output_type": "stream",
          "name": "stdout",
          "text": [
            "1/1 [==============================] - 6s 6s/step\n",
            "[[-1.6662712]]\n"
          ]
        }
      ],
      "source": [
        "\n",
        "# predict on a sample text without padding.\n",
        "\n",
        "sample_text = ('The movie was not good. The animation and the graphics '\n",
        "                'were terrible. I would not recommend this movie.')\n",
        "predictions = model.predict(np.array([sample_text]))\n",
        "print(predictions)"
      ]
    },
    {
      "cell_type": "code",
      "execution_count": 25,
      "metadata": {
        "colab": {
          "base_uri": "https://localhost:8080/",
          "height": 542
        },
        "id": "m9O_wC_8Ny7G",
        "outputId": "8af7bda3-3cd3-4f30-ac82-5bce1597ff08"
      },
      "outputs": [
        {
          "output_type": "display_data",
          "data": {
            "text/plain": [
              "<Figure size 1600x600 with 2 Axes>"
            ],
            "image/png": "[encoded data removed]"
          },
          "metadata": {}
        }
      ],
      "source": [
        "plt.figure(figsize=(16, 6))\n",
        "plt.subplot(1, 2, 1)\n",
        "plot_graphs(history, 'accuracy')\n",
        "plt.subplot(1, 2, 2)\n",
        "plot_graphs(history, 'loss')"
      ]
    },
    {
      "cell_type": "markdown",
      "metadata": {
        "id": "pA1JZimYf9j8"
      },
      "source": [
        "----\n",
        "\n",
        "### **Praktikum 2**\n",
        "Generator Teks dengan RNN<p>\n",
        "\n",
        "Praktikum ini mendemonstrasikan cara melakukan genearsi text menggunakan RNN. Dataset yang digunkan adalah dataset Shakespeare's writing from Andrej Karpathy's The Unreasonable Effectiveness of Recurrent Neural Networks. Jika diberikan urutan karakter dari data ini (\"Shakespear\"), latih model untuk memprediksi karakter berikutnya dalam urutan (\"e\"). Urutan teks yang lebih panjang dapat dihasilkan dengan memanggil model berulang kali.<p>\n",
        "Note: Enable GPU acceleration to execute this notebook faster. In Colab: Runtime > Change runtime type > Hardware accelerator > GPU.<p>\n",
        "Tutorial ini menggunakan tf.keras dan eager execution. Berikut adalah contoh output ketika model dalam tutorial ini dilatih selama 30 epoch, dan dimulai dengan prompt \"Q\":\n",
        "\n",
        "```dart\n",
        "QUEENE:\n",
        "I had thought thou hadst a Roman; for the oracle,\n",
        "Thus by All bids the man against the word,\n",
        "Which are so weak of care, by old care done;\n",
        "Your children were in your holy love,\n",
        "And the precipitation through the bleeding throne.\n",
        "\n",
        "BISHOP OF ELY:\n",
        "Marry, and will, my lord, to weep in such a one were prettiest;\n",
        "Yet now I was adopted heir\n",
        "Of the world's lamentable day,\n",
        "To watch the next way with his father with his face?\n",
        "\n",
        "ESCALUS:\n",
        "The cause why then we are all resolved more sons.\n",
        "\n",
        "VOLUMNIA:\n",
        "O, no, no, no, no, no, no, no, no, no, no, no, no, no, no, no, no, no, no, no, no, it is no sin it should be dead,\n",
        "And love and pale as any will to that word.\n",
        "\n",
        "QUEEN ELIZABETH:\n",
        "But how long have I heard the soul for this world,\n",
        "And show his hands of life be proved to stand.\n",
        "\n",
        "PETRUCHIO:\n",
        "I say he look'd on, if I must be content\n",
        "To stay him from the fatal of our country's bliss.\n",
        "His lordship pluck'd from this sentence then for prey,\n",
        "And then let us twain, being the moon,\n",
        "were she such a case as fills m\n",
        "```\n",
        "\n",
        "Meskipun beberapa kalimat memiliki tata bahasa, sebagian besar tidak masuk akal. Model belum mempelajari arti kata-kata, namun anggap saja:"
      ]
    },
    {
      "cell_type": "markdown",
      "source": [
        "#### **Setup**\n",
        "**Import TensorFlow**"
      ],
      "metadata": {
        "id": "QyEiLoL3KZwi"
      }
    },
    {
      "cell_type": "code",
      "execution_count": 26,
      "metadata": {
        "id": "bwOVruvCgThx"
      },
      "outputs": [],
      "source": [
        "import tensorflow as tf\n",
        "import numpy as np\n",
        "import os\n",
        "import time"
      ]
    },
    {
      "cell_type": "markdown",
      "metadata": {
        "id": "RILtKxGBg-Xp"
      },
      "source": [
        "#### **Download Dataset Shakespeare**\n",
        "Sesuaikan dengan lokasi data yang Anda punya."
      ]
    },
    {
      "cell_type": "code",
      "execution_count": 27,
      "metadata": {
        "id": "r2WGOa9lf9Ai",
        "colab": {
          "base_uri": "https://localhost:8080/"
        },
        "outputId": "51f5a175-3bdd-443c-a00a-e453aaa9c517"
      },
      "outputs": [
        {
          "output_type": "stream",
          "name": "stdout",
          "text": [
            "Downloading data from https://storage.googleapis.com/download.tensorflow.org/data/shakespeare.txt\n",
            "1115394/1115394 [==============================] - 0s 0us/step\n"
          ]
        }
      ],
      "source": [
        "path_to_file = tf.keras.utils.get_file('shakespeare.txt', 'https://storage.googleapis.com/download.tensorflow.org/data/shakespeare.txt')"
      ]
    },
    {
      "cell_type": "markdown",
      "metadata": {
        "id": "6XRLUvr9h_vl"
      },
      "source": [
        "#### **Load Data**"
      ]
    },
    {
      "cell_type": "code",
      "execution_count": 28,
      "metadata": {
        "colab": {
          "base_uri": "https://localhost:8080/"
        },
        "id": "QENtAhfPh6zE",
        "outputId": "43172c43-aa00-423e-b3ca-3c818d2d158a"
      },
      "outputs": [
        {
          "output_type": "stream",
          "name": "stdout",
          "text": [
            "Length of text: 1115394 characters\n"
          ]
        }
      ],
      "source": [
        "# Read, then decode for py2 compat.\n",
        "text = open(path_to_file, 'rb').read().decode(encoding='utf-8')\n",
        "# length of text is the number of characters in it\n",
        "print(f'Length of text: {len(text)} characters')"
      ]
    },
    {
      "cell_type": "code",
      "execution_count": 29,
      "metadata": {
        "colab": {
          "base_uri": "https://localhost:8080/"
        },
        "id": "swUB9fIoifKV",
        "outputId": "bb172d05-ad56-447f-e52a-c296e4b54f34"
      },
      "outputs": [
        {
          "output_type": "stream",
          "name": "stdout",
          "text": [
            "First Citizen:\n",
            "Before we proceed any further, hear me speak.\n",
            "\n",
            "All:\n",
            "Speak, speak.\n",
            "\n",
            "First Citizen:\n",
            "You are all resolved rather to die than to famish?\n",
            "\n",
            "All:\n",
            "Resolved. resolved.\n",
            "\n",
            "First Citizen:\n",
            "First, you know Caius Marcius is chief enemy to the people.\n",
            "\n"
          ]
        }
      ],
      "source": [
        "# Take a look at the first 250 characters in text\n",
        "print(text[:250])"
      ]
    },
    {
      "cell_type": "code",
      "execution_count": 30,
      "metadata": {
        "colab": {
          "base_uri": "https://localhost:8080/"
        },
        "id": "8yoNMW_Wig2N",
        "outputId": "0ddb66d8-37c8-450f-9545-8abcab4d2b5d"
      },
      "outputs": [
        {
          "output_type": "stream",
          "name": "stdout",
          "text": [
            "65 unique characters\n"
          ]
        }
      ],
      "source": [
        "# The unique characters in the file\n",
        "vocab = sorted(set(text))\n",
        "print(f'{len(vocab)} unique characters')"
      ]
    },
    {
      "cell_type": "markdown",
      "metadata": {
        "id": "CaFqTSKYijiE"
      },
      "source": [
        "#### **Olah Teks**\n",
        "**Vectorize Teks**<p>\n",
        "Sebelum training, Anda perlu mengonversi string menjadi representasi numerik. tf.keras.layers.StringLookup dapat mengubah setiap karakter menjadi ID numerik. Caranya adalah teks akan dipecah menjadi token terlebih dahulu."
      ]
    },
    {
      "cell_type": "code",
      "execution_count": 31,
      "metadata": {
        "colab": {
          "base_uri": "https://localhost:8080/"
        },
        "id": "5CSEN__VipRx",
        "outputId": "b1789249-b731-47fe-ff33-60f7f3dc3c9d"
      },
      "outputs": [
        {
          "output_type": "execute_result",
          "data": {
            "text/plain": [
              "<tf.RaggedTensor [[b'a', b'b', b'c', b'd', b'e', b'f', b'g'], [b'x', b'y', b'z']]>"
            ]
          },
          "metadata": {},
          "execution_count": 31
        }
      ],
      "source": [
        "\n",
        "example_texts = ['abcdefg', 'xyz']\n",
        "chars = tf.strings.unicode_split(example_texts, input_encoding='UTF-8')\n",
        "chars"
      ]
    },
    {
      "cell_type": "markdown",
      "metadata": {
        "id": "Q_NFFrXUiwCQ"
      },
      "source": [
        "sekarang buat tf.keras.layers.StringLookup layer:"
      ]
    },
    {
      "cell_type": "code",
      "execution_count": 32,
      "metadata": {
        "id": "QK4KfkIJix89"
      },
      "outputs": [],
      "source": [
        "ids_from_chars = tf.keras.layers.StringLookup(vocabulary=list(vocab), mask_token=None)"
      ]
    },
    {
      "cell_type": "markdown",
      "metadata": {
        "id": "bLGprga3i5A_"
      },
      "source": [
        "perintah diatas mengconvert token menjadi id"
      ]
    },
    {
      "cell_type": "code",
      "execution_count": 33,
      "metadata": {
        "colab": {
          "base_uri": "https://localhost:8080/"
        },
        "id": "4PMNcmuIi6jX",
        "outputId": "1cd4b2ff-9ed0-49f6-d7af-6a4a6952fc0c"
      },
      "outputs": [
        {
          "output_type": "execute_result",
          "data": {
            "text/plain": [
              "<tf.RaggedTensor [[40, 41, 42, 43, 44, 45, 46], [63, 64, 65]]>"
            ]
          },
          "metadata": {},
          "execution_count": 33
        }
      ],
      "source": [
        "\n",
        "ids = ids_from_chars(chars)\n",
        "ids\n"
      ]
    },
    {
      "cell_type": "markdown",
      "metadata": {
        "id": "a1L3KY6QjL6M"
      },
      "source": [
        "Karena tujuan tutorial ini adalah untuk menghasilkan teks, penting juga untuk membalikkan representasi ini. Untuk ini Anda dapat menggunakan kode tf.keras.layers.StringLookup(..., invert=True).<p>\n",
        "Catatan: pada kode ini, daripada meneruskan kosakata asli yang dihasilkan dengan diurutkan(set(teks)) gunakan metode get_vocabulary() dari tf.keras.layers.StringLookup sehingga token [UNK] disetel dengan cara yang sama."
      ]
    },
    {
      "cell_type": "code",
      "execution_count": 34,
      "metadata": {
        "id": "5ABrIHtJjOfA"
      },
      "outputs": [],
      "source": [
        "chars_from_ids = tf.keras.layers.StringLookup(\n",
        "    vocabulary=ids_from_chars.get_vocabulary(), invert=True, mask_token=None)"
      ]
    },
    {
      "cell_type": "markdown",
      "metadata": {
        "id": "8ef8vM5LjR1H"
      },
      "source": [
        "Lapisan ini mengconvert kembali karakter dari vektor ID, dan mengembalikannya sebagai karakter tf.RaggedTensor:"
      ]
    },
    {
      "cell_type": "code",
      "execution_count": 35,
      "metadata": {
        "colab": {
          "base_uri": "https://localhost:8080/"
        },
        "id": "WZtOgc_GjTbc",
        "outputId": "dd58f055-e517-4ec7-dd73-699187b554c5"
      },
      "outputs": [
        {
          "output_type": "execute_result",
          "data": {
            "text/plain": [
              "<tf.RaggedTensor [[b'a', b'b', b'c', b'd', b'e', b'f', b'g'], [b'x', b'y', b'z']]>"
            ]
          },
          "metadata": {},
          "execution_count": 35
        }
      ],
      "source": [
        "chars = chars_from_ids(ids)\n",
        "chars"
      ]
    },
    {
      "cell_type": "markdown",
      "metadata": {
        "id": "3NEDIKFJjW8m"
      },
      "source": [
        "Anda dapat menggunakan tf.strings.reduce_join untuk menggabungkan kembali karakter menjadi string."
      ]
    },
    {
      "cell_type": "code",
      "execution_count": 36,
      "metadata": {
        "colab": {
          "base_uri": "https://localhost:8080/"
        },
        "id": "L2UXMiiwjixN",
        "outputId": "5ec984cc-16a6-4530-8950-e71e52d8077d"
      },
      "outputs": [
        {
          "output_type": "execute_result",
          "data": {
            "text/plain": [
              "array([b'abcdefg', b'xyz'], dtype=object)"
            ]
          },
          "metadata": {},
          "execution_count": 36
        }
      ],
      "source": [
        "tf.strings.reduce_join(chars, axis=-1).numpy()"
      ]
    },
    {
      "cell_type": "code",
      "execution_count": 37,
      "metadata": {
        "id": "g6g_GjuZkA7E"
      },
      "outputs": [],
      "source": [
        "\n",
        "def text_from_ids(ids):\n",
        "    return tf.strings.reduce_join(chars_from_ids(ids), axis=-1)"
      ]
    },
    {
      "cell_type": "markdown",
      "metadata": {
        "id": "DMI6B0mHjhTv"
      },
      "source": [
        "#### **Prediksi**\n",
        "\n",
        "Diberikan sebuah karakter, atau serangkaian karakter, karakter apa yang paling mungkin berikutnya? Ini adalah tugas yang harus Anda latih agar model dapat melakukannya. Masukan ke model akan berupa urutan karakter, dan Anda melatih model untuk memprediksi keluaran berupa karakter berikut pada setiap langkah waktu. Karena RNN mempertahankan keadaan internal yang bergantung pada elemen yang terlihat sebelumnya, mengingat semua karakter dihitung hingga saat ini, karakter apa selanjutnya?\n",
        "\n",
        "**Membuat Trianing Set dan Target**<p>\n",
        "Selanjutnya bagilah teks menjadi contoh sequence. Setiap masukan sequence akan berisi karakter seq_length dari teks. Untuk setiap masukan sequence, target prediksi berisi teks dengan panjang yang sama, hanya digeser satu karakter ke kanan. Jadi, bagi teks menjadi beberapa bagian seq_length+1. Misalnya, seq_length adalah 4 dan teks kita adalah \"Hello\". Urutan masukannya adalah \"Hell\", dan urutan targetnya adalah \"ello\". Untuk melakukan ini, pertama-tama gunakan fungsi tf.data.Dataset.from_tensor_slices untuk mengonversi vektor teks menjadi aliran indeks karakter."
      ]
    },
    {
      "cell_type": "code",
      "execution_count": 38,
      "metadata": {
        "colab": {
          "base_uri": "https://localhost:8080/"
        },
        "id": "DlBiH_1VkYjV",
        "outputId": "64bd9290-7bdf-4582-facd-d4edc3437ea6"
      },
      "outputs": [
        {
          "output_type": "execute_result",
          "data": {
            "text/plain": [
              "<tf.Tensor: shape=(1115394,), dtype=int64, numpy=array([19, 48, 57, ..., 46,  9,  1])>"
            ]
          },
          "metadata": {},
          "execution_count": 38
        }
      ],
      "source": [
        "\n",
        "all_ids = ids_from_chars(tf.strings.unicode_split(text, 'UTF-8'))\n",
        "all_ids"
      ]
    },
    {
      "cell_type": "code",
      "execution_count": 39,
      "metadata": {
        "id": "bEe_fgwnkdU_"
      },
      "outputs": [],
      "source": [
        "\n",
        "ids_dataset = tf.data.Dataset.from_tensor_slices(all_ids)"
      ]
    },
    {
      "cell_type": "code",
      "execution_count": 40,
      "metadata": {
        "colab": {
          "base_uri": "https://localhost:8080/"
        },
        "id": "Ww9qQpVdkgcs",
        "outputId": "069f9136-325c-426c-a76f-06c013cd3620"
      },
      "outputs": [
        {
          "output_type": "stream",
          "name": "stdout",
          "text": [
            "F\n",
            "i\n",
            "r\n",
            "s\n",
            "t\n",
            " \n",
            "C\n",
            "i\n",
            "t\n",
            "i\n"
          ]
        }
      ],
      "source": [
        "\n",
        "for ids in ids_dataset.take(10):\n",
        "    print(chars_from_ids(ids).numpy().decode('utf-8'))"
      ]
    },
    {
      "cell_type": "code",
      "execution_count": 42,
      "metadata": {
        "id": "EZ35IfiEkiix"
      },
      "outputs": [],
      "source": [
        "\n",
        "seq_length = 100"
      ]
    },
    {
      "cell_type": "markdown",
      "metadata": {
        "id": "r3RWeWiJkk3D"
      },
      "source": [
        "Metode batch memungkinkan Anda dengan mudah mengonversi karakter individual ini menjadi urutan ukuran yang diinginkan."
      ]
    },
    {
      "cell_type": "code",
      "execution_count": 43,
      "metadata": {
        "colab": {
          "base_uri": "https://localhost:8080/"
        },
        "id": "CLLsY4QxkmLm",
        "outputId": "2b560799-6acc-4269-de47-6e0230b8b2bc"
      },
      "outputs": [
        {
          "output_type": "stream",
          "name": "stdout",
          "text": [
            "tf.Tensor(\n",
            "[b'F' b'i' b'r' b's' b't' b' ' b'C' b'i' b't' b'i' b'z' b'e' b'n' b':'\n",
            " b'\\n' b'B' b'e' b'f' b'o' b'r' b'e' b' ' b'w' b'e' b' ' b'p' b'r' b'o'\n",
            " b'c' b'e' b'e' b'd' b' ' b'a' b'n' b'y' b' ' b'f' b'u' b'r' b't' b'h'\n",
            " b'e' b'r' b',' b' ' b'h' b'e' b'a' b'r' b' ' b'm' b'e' b' ' b's' b'p'\n",
            " b'e' b'a' b'k' b'.' b'\\n' b'\\n' b'A' b'l' b'l' b':' b'\\n' b'S' b'p' b'e'\n",
            " b'a' b'k' b',' b' ' b's' b'p' b'e' b'a' b'k' b'.' b'\\n' b'\\n' b'F' b'i'\n",
            " b'r' b's' b't' b' ' b'C' b'i' b't' b'i' b'z' b'e' b'n' b':' b'\\n' b'Y'\n",
            " b'o' b'u' b' '], shape=(101,), dtype=string)\n"
          ]
        }
      ],
      "source": [
        "sequences = ids_dataset.batch(seq_length+1, drop_remainder=True)\n",
        "\n",
        "for seq in sequences.take(1):\n",
        "  print(chars_from_ids(seq))"
      ]
    },
    {
      "cell_type": "markdown",
      "metadata": {
        "id": "xYnqkGBqkoq5"
      },
      "source": [
        "akan lebih mudah untuk melihat apa yang dilakukan jika Anda menggabungkan token kembali menjadi string:"
      ]
    },
    {
      "cell_type": "code",
      "source": [
        "\n",
        "for seq in sequences.take(5):\n",
        "    print(text_from_ids(seq).numpy())"
      ],
      "metadata": {
        "colab": {
          "base_uri": "https://localhost:8080/"
        },
        "id": "iWIJMkFMlVs2",
        "outputId": "fad9e93d-517d-4492-955b-e46e877e28bd"
      },
      "execution_count": 44,
      "outputs": [
        {
          "output_type": "stream",
          "name": "stdout",
          "text": [
            "b'First Citizen:\\nBefore we proceed any further, hear me speak.\\n\\nAll:\\nSpeak, speak.\\n\\nFirst Citizen:\\nYou '\n",
            "b'are all resolved rather to die than to famish?\\n\\nAll:\\nResolved. resolved.\\n\\nFirst Citizen:\\nFirst, you k'\n",
            "b\"now Caius Marcius is chief enemy to the people.\\n\\nAll:\\nWe know't, we know't.\\n\\nFirst Citizen:\\nLet us ki\"\n",
            "b\"ll him, and we'll have corn at our own price.\\nIs't a verdict?\\n\\nAll:\\nNo more talking on't; let it be d\"\n",
            "b'one: away, away!\\n\\nSecond Citizen:\\nOne word, good citizens.\\n\\nFirst Citizen:\\nWe are accounted poor citi'\n"
          ]
        }
      ]
    },
    {
      "cell_type": "markdown",
      "source": [
        "Untuk pelatihan, Anda memerlukan kumpulan data pasangan (input, label). Dimana input dan label merupakan urutan. Pada setiap langkah waktu, inputnya adalah karakter saat ini dan labelnya adalah karakter berikutnya. Berikut adalah fungsi yang mengambil urutan sebagai masukan, menduplikasi, dan menggesernya untuk menyelaraskan masukan dan label untuk setiap langkah waktu:"
      ],
      "metadata": {
        "id": "0nsugUR-labL"
      }
    },
    {
      "cell_type": "code",
      "source": [
        "def split_input_target(sequence):\n",
        "  input_text = sequence[:-1]\n",
        "  target_text = sequence[1:]\n",
        "  return input_text, target_text"
      ],
      "metadata": {
        "id": "Oeezn74glcyD"
      },
      "execution_count": 45,
      "outputs": []
    },
    {
      "cell_type": "code",
      "source": [
        "split_input_target(list(\"Tensorflow\"))"
      ],
      "metadata": {
        "colab": {
          "base_uri": "https://localhost:8080/"
        },
        "id": "p_yPgsUWle_8",
        "outputId": "d33667b0-0c68-4fca-d520-bcae33228bf6"
      },
      "execution_count": 46,
      "outputs": [
        {
          "output_type": "execute_result",
          "data": {
            "text/plain": [
              "(['T', 'e', 'n', 's', 'o', 'r', 'f', 'l', 'o'],\n",
              " ['e', 'n', 's', 'o', 'r', 'f', 'l', 'o', 'w'])"
            ]
          },
          "metadata": {},
          "execution_count": 46
        }
      ]
    },
    {
      "cell_type": "code",
      "source": [
        "\n",
        "dataset = sequences.map(split_input_target)"
      ],
      "metadata": {
        "id": "CidrL0lVlgj_"
      },
      "execution_count": 47,
      "outputs": []
    },
    {
      "cell_type": "code",
      "source": [
        "\n",
        "for input_example, target_example in dataset.take(1):\n",
        "  print(\"Input :\", text_from_ids(input_example).numpy())\n",
        "  print(\"Target:\", text_from_ids(target_example).numpy())"
      ],
      "metadata": {
        "colab": {
          "base_uri": "https://localhost:8080/"
        },
        "id": "VPQ-cfIolk05",
        "outputId": "9f259ec3-1ebe-4f98-8250-48ff7415b06b"
      },
      "execution_count": 48,
      "outputs": [
        {
          "output_type": "stream",
          "name": "stdout",
          "text": [
            "Input : b'First Citizen:\\nBefore we proceed any further, hear me speak.\\n\\nAll:\\nSpeak, speak.\\n\\nFirst Citizen:\\nYou'\n",
            "Target: b'irst Citizen:\\nBefore we proceed any further, hear me speak.\\n\\nAll:\\nSpeak, speak.\\n\\nFirst Citizen:\\nYou '\n"
          ]
        }
      ]
    },
    {
      "cell_type": "markdown",
      "source": [
        "#### **Membuat Batch Training**\n",
        "Anda menggunakan tf.data untuk membagi teks menjadi sequence yang dapat diatur. Namun sebelum memasukkan data ini ke dalam model, Anda perlu mengacak data dan mengemasnya ke dalam batch."
      ],
      "metadata": {
        "id": "uzhIRviklp3Q"
      }
    },
    {
      "cell_type": "code",
      "source": [
        "# Batch size\n",
        "BATCH_SIZE = 64\n",
        "\n",
        "# Buffer size to shuffle the dataset\n",
        "# (TF data is designed to work with possibly infinite sequences,\n",
        "# so it doesn't attempt to shuffle the entire sequence in memory. Instead,\n",
        "# it maintains a buffer in which it shuffles elements).\n",
        "BUFFER_SIZE = 10000\n",
        "\n",
        "dataset = (\n",
        "    dataset\n",
        "    .shuffle(BUFFER_SIZE)\n",
        "    .batch(BATCH_SIZE, drop_remainder=True)\n",
        "    .prefetch(tf.data.experimental.AUTOTUNE))\n",
        "\n",
        "dataset"
      ],
      "metadata": {
        "colab": {
          "base_uri": "https://localhost:8080/"
        },
        "id": "o_Gp3k47ltc-",
        "outputId": "a73a1f53-bcac-4ba7-b307-0425847b0012"
      },
      "execution_count": 49,
      "outputs": [
        {
          "output_type": "execute_result",
          "data": {
            "text/plain": [
              "<_PrefetchDataset element_spec=(TensorSpec(shape=(64, 100), dtype=tf.int64, name=None), TensorSpec(shape=(64, 100), dtype=tf.int64, name=None))>"
            ]
          },
          "metadata": {},
          "execution_count": 49
        }
      ]
    },
    {
      "cell_type": "markdown",
      "source": [
        "#### **Buat Model**\n",
        "\n",
        "Bagian ini mendefinisikan model sebagai subkelas keras.Model (untuk lebih detilnya, lihat Making new Layers and Models via subclassing).<p>\n",
        "Model yang kita bangun memiliki 3 lapisan neural network :\n",
        "- tf.keras.layers.Embedding: Lapisan masukan. Tabel pencarian yang dapat dilatih yang akan memetakan setiap karakter-ID ke vektor dengan dimensi embedding_dim;\n",
        "- tf.keras.layers.GRU: lapisan RNN dengan ukuran unit=rnn_units (Anda juga dapat menggunakan lapisan LSTM di sini.)\n",
        "- tf.keras.layers.Dense: Lapisan keluaran, dengan keluaran vocab_size. Ini menghasilkan satu logit untuk setiap karakter dalam kosakata. Ini adalah log kemungkinan setiap karakter menurut model."
      ],
      "metadata": {
        "id": "q9Mrbp3vlwLs"
      }
    },
    {
      "cell_type": "code",
      "source": [
        "# Length of the vocabulary in StringLookup Layer\n",
        "vocab_size = len(ids_from_chars.get_vocabulary())\n",
        "\n",
        "# The embedding dimension\n",
        "embedding_dim = 256\n",
        "\n",
        "# Number of RNN units\n",
        "rnn_units = 1024"
      ],
      "metadata": {
        "id": "aCybqmqLl7lT"
      },
      "execution_count": 50,
      "outputs": []
    },
    {
      "cell_type": "code",
      "source": [
        "class MyModel(tf.keras.Model):\n",
        "  def __init__(self, vocab_size, embedding_dim, rnn_units):\n",
        "    super().__init__(self)\n",
        "    self.embedding = tf.keras.layers.Embedding(vocab_size, embedding_dim)\n",
        "    self.gru = tf.keras.layers.GRU(rnn_units,\n",
        "                                   return_sequences=True,\n",
        "                                   return_state=True)\n",
        "    self.dense = tf.keras.layers.Dense(vocab_size)\n",
        "\n",
        "  def call(self, inputs, states=None, return_state=False, training=False):\n",
        "    x = inputs\n",
        "    x = self.embedding(x, training=training)\n",
        "    if states is None:\n",
        "      states = self.gru.get_initial_state(x)\n",
        "    x, states = self.gru(x, initial_state=states, training=training)\n",
        "    x = self.dense(x, training=training)\n",
        "\n",
        "    if return_state:\n",
        "      return x, states\n",
        "    else:\n",
        "      return x"
      ],
      "metadata": {
        "id": "agbpoAqpl9sO"
      },
      "execution_count": 51,
      "outputs": []
    },
    {
      "cell_type": "code",
      "source": [
        "model = MyModel(\n",
        "    vocab_size=vocab_size,\n",
        "    embedding_dim=embedding_dim,\n",
        "    rnn_units=rnn_units)"
      ],
      "metadata": {
        "id": "ZxVtYS6vl_lD"
      },
      "execution_count": 52,
      "outputs": []
    },
    {
      "cell_type": "markdown",
      "source": [
        "Untuk setiap karakter, model mencari penyematan, menjalankan GRU satu langkah waktu dengan penyematan sebagai masukan, dan menerapkan dense layer untuk menghasilkan log yang memprediksi kemungkinan log karakter berikutnya:<p>\n",
        "\n",
        "<img src = \"https://raw.githubusercontent.com/tensorflow/text/master/docs/tutorials/images/text_generation_training.png\"><p>\n",
        "\n",
        "Note: Untuk pelatihan Anda bisa menggunakan model keras.Sequential di sini. Untuk menghasilkan teks nanti, Anda harus mengelola status internal RNN. Akan lebih mudah untuk memasukkan opsi input dan output status di awal, daripada mengatur ulang arsitektur model nanti. untuk detailnya bisa dilihat Keras RNN guide.\n",
        "\n",
        "#### **Uji Model**\n",
        "Coba jalankan model dan cek apakah sidah sesuai dengan output\n",
        "pertama, cek bentuk dari output"
      ],
      "metadata": {
        "id": "J1wWT5SfmDK3"
      }
    },
    {
      "cell_type": "code",
      "source": [
        "for input_example_batch, target_example_batch in dataset.take(1):\n",
        "    example_batch_predictions = model(input_example_batch)\n",
        "    print(example_batch_predictions.shape, \"# (batch_size, sequence_length, vocab_size)\")"
      ],
      "metadata": {
        "colab": {
          "base_uri": "https://localhost:8080/"
        },
        "id": "XpquASdEmbzS",
        "outputId": "539c5bb5-bde1-4906-b712-bc6f04f86d9e"
      },
      "execution_count": 53,
      "outputs": [
        {
          "output_type": "stream",
          "name": "stdout",
          "text": [
            "(64, 100, 66) # (batch_size, sequence_length, vocab_size)\n"
          ]
        }
      ]
    },
    {
      "cell_type": "markdown",
      "source": [
        "Dalam contoh di atas, panjang urutan masukan adalah 100 tetapi model dapat dijalankan pada masukan dengan panjang berapa pun:"
      ],
      "metadata": {
        "id": "gmldwSBtmf98"
      }
    },
    {
      "cell_type": "code",
      "source": [
        "model.summary()"
      ],
      "metadata": {
        "colab": {
          "base_uri": "https://localhost:8080/"
        },
        "id": "M4p8PdlkmhZp",
        "outputId": "75bc0563-dc83-4f1f-a133-af59f28e9a22"
      },
      "execution_count": 54,
      "outputs": [
        {
          "output_type": "stream",
          "name": "stdout",
          "text": [
            "Model: \"my_model\"\n",
            "_________________________________________________________________\n",
            " Layer (type)                Output Shape              Param #   \n",
            "=================================================================\n",
            " embedding_2 (Embedding)     multiple                  16896     \n",
            "                                                                 \n",
            " gru (GRU)                   multiple                  3938304   \n",
            "                                                                 \n",
            " dense_4 (Dense)             multiple                  67650     \n",
            "                                                                 \n",
            "=================================================================\n",
            "Total params: 4022850 (15.35 MB)\n",
            "Trainable params: 4022850 (15.35 MB)\n",
            "Non-trainable params: 0 (0.00 Byte)\n",
            "_________________________________________________________________\n"
          ]
        }
      ]
    },
    {
      "cell_type": "markdown",
      "source": [
        "Untuk mendapatkan prediksi aktual dari model, Anda perlu mengambil sampel dari distribusi keluaran, untuk mendapatkan indeks karakter aktual. Distribusi ini ditentukan oleh logit pada kosakata karakter. Catatan: Penting untuk mengambil sampel dari distribusi ini karena mengambil argmax dari distribusi tersebut dapat dengan mudah membuat model terjebak dalam infinote loop. Cobalah untuk contoh pertama di batch:"
      ],
      "metadata": {
        "id": "kB8iTYAomjr0"
      }
    },
    {
      "cell_type": "code",
      "source": [
        "\n",
        "sampled_indices = tf.random.categorical(example_batch_predictions[0],num_samples=1)\n",
        "sampled_indices = tf.squeeze(sampled_indices, axis=-1).numpy()"
      ],
      "metadata": {
        "id": "rmswLGKOmlQv"
      },
      "execution_count": 55,
      "outputs": []
    },
    {
      "cell_type": "markdown",
      "source": [
        "Hal ini memberi kita, pada setiap langkah waktu, prediksi indeks karakter berikutnya:"
      ],
      "metadata": {
        "id": "DHLCZ1bSmp8P"
      }
    },
    {
      "cell_type": "code",
      "source": [
        "sampled_indices"
      ],
      "metadata": {
        "colab": {
          "base_uri": "https://localhost:8080/"
        },
        "id": "sw23e_ilm1TF",
        "outputId": "bda4413f-37bc-4fae-e386-7853f1d17b93"
      },
      "execution_count": 56,
      "outputs": [
        {
          "output_type": "execute_result",
          "data": {
            "text/plain": [
              "array([15, 47, 57,  0, 55, 59, 15, 21, 23, 57, 23, 60,  0, 54, 51, 10, 18,\n",
              "       58, 11, 61, 54, 49, 14, 52, 45, 12, 41, 55, 27, 21, 46, 59, 47, 45,\n",
              "       39, 54, 36, 47, 24,  0, 43, 37, 40, 33, 46, 37, 43, 19,  8, 35, 35,\n",
              "       54, 46, 24, 18, 19, 26, 27, 60, 25, 65, 55, 40, 31, 53, 21, 49, 35,\n",
              "       39, 39, 26, 33, 51, 18, 48, 19,  0, 45, 23, 30, 32, 28, 40, 29, 44,\n",
              "       10, 57, 46, 56, 56, 18, 20, 54, 23, 45,  1,  1, 12, 23, 28])"
            ]
          },
          "metadata": {},
          "execution_count": 56
        }
      ]
    },
    {
      "cell_type": "markdown",
      "source": [
        "Dekode kode berikut untuk melihat teks yang diprediksi oleh model tidak terlatih ini:"
      ],
      "metadata": {
        "id": "i70bI0ism4Ac"
      }
    },
    {
      "cell_type": "code",
      "source": [
        "print(\"Input:\\n\", text_from_ids(input_example_batch[0]).numpy())\n",
        "print()\n",
        "print(\"Next Char Predictions:\\n\", text_from_ids(sampled_indices).numpy())"
      ],
      "metadata": {
        "colab": {
          "base_uri": "https://localhost:8080/"
        },
        "id": "Dle-lW8vm5tC",
        "outputId": "26c9d8df-24a1-4fdc-bf4b-3660e47e8074"
      },
      "execution_count": 57,
      "outputs": [
        {
          "output_type": "stream",
          "name": "stdout",
          "text": [
            "Input:\n",
            " b\"'d for thee,\\nGod knows, in anguish, pain and agony.\\n\\nKING RICHARD III:\\nAnd came I not at last to com\"\n",
            "\n",
            "Next Char Predictions:\n",
            " b'Bhr[UNK]ptBHJrJu[UNK]ol3Es:vojAmf;bpNHgthfZoWhK[UNK]dXaTgXdF-VVogKEFMNuLzpaRnHjVZZMTlEiF[UNK]fJQSOaPe3rgqqEGoJf\\n\\n;JO'\n"
          ]
        }
      ]
    },
    {
      "cell_type": "markdown",
      "source": [
        "#### **Train Model**\n",
        "Pada titik ini permasalahan dapat dianggap sebagai permasalahan klasifikasi standar. Permasalahan dapat disimpulkan dengan : Berdasarkan status RNN sebelumnya, dan masukan langkah kali ini, prediksi kelas karakter berikutnya.<p>\n",
        "\n",
        "**Tambahan optimizer dan fungsi loss**<p>\n",
        "\n",
        "loss function tf.keras.losses.sparse_categorical_crossentropy standar berfungsi dalam kasus ini karena diterapkan di seluruh dimensi terakhir prediksi. Karena model Anda mengembalikan logits, Anda perlu mengatur flag from_logits."
      ],
      "metadata": {
        "id": "1A5HINuem-qK"
      }
    },
    {
      "cell_type": "code",
      "source": [
        "\n",
        "loss = tf.losses.SparseCategoricalCrossentropy(from_logits=True)"
      ],
      "metadata": {
        "id": "sAuRxCWdnKTE"
      },
      "execution_count": 58,
      "outputs": []
    },
    {
      "cell_type": "code",
      "source": [
        "\n",
        "example_batch_mean_loss = loss(target_example_batch, example_batch_predictions)\n",
        "print(\"Prediction shape: \", example_batch_predictions.shape, \" # (batch_size, sequence_length, vocab_size)\")\n",
        "print(\"Mean loss:        \", example_batch_mean_loss)"
      ],
      "metadata": {
        "colab": {
          "base_uri": "https://localhost:8080/"
        },
        "id": "i5cY7opBnSHB",
        "outputId": "ae0094f0-b582-482a-a090-1b1bf60cce7f"
      },
      "execution_count": 59,
      "outputs": [
        {
          "output_type": "stream",
          "name": "stdout",
          "text": [
            "Prediction shape:  (64, 100, 66)  # (batch_size, sequence_length, vocab_size)\n",
            "Mean loss:         tf.Tensor(4.1891575, shape=(), dtype=float32)\n"
          ]
        }
      ]
    },
    {
      "cell_type": "markdown",
      "source": [
        "Model yang baru diinisialisasi tidak boleh terlalu yakin dengan dirinya sendiri, semua log keluaran harus memiliki besaran yang sama. Untuk mengonfirmasi hal ini, Anda dapat memeriksa bahwa eksponensial dari loss rata-rata harus kira-kira sama dengan ukuran kosakata. Loss yang jauh lebih tinggi berarti model tersebut yakin akan jawaban yang salah, dan memiliki inisialisasi yang buruk:"
      ],
      "metadata": {
        "id": "yYs0aHcnnUDB"
      }
    },
    {
      "cell_type": "code",
      "source": [
        "tf.exp(example_batch_mean_loss).numpy()"
      ],
      "metadata": {
        "colab": {
          "base_uri": "https://localhost:8080/"
        },
        "id": "PMvQ-yZDnVcy",
        "outputId": "629fabfe-c156-403d-dca1-6a1bba777e38"
      },
      "execution_count": 60,
      "outputs": [
        {
          "output_type": "execute_result",
          "data": {
            "text/plain": [
              "65.967186"
            ]
          },
          "metadata": {},
          "execution_count": 60
        }
      ]
    },
    {
      "cell_type": "markdown",
      "source": [
        "Konfigurasikan prosedur pelatihan menggunakan metode tf.keras.Model.compile. Gunakan tf.keras.optimizers.Adam dengan argumen default dan fungsi loss."
      ],
      "metadata": {
        "id": "wAVnuE-BnX3T"
      }
    },
    {
      "cell_type": "code",
      "source": [
        "model.compile(optimizer='adam',loss=loss)"
      ],
      "metadata": {
        "id": "KX_URPUMnZqZ"
      },
      "execution_count": 61,
      "outputs": []
    },
    {
      "cell_type": "markdown",
      "source": [
        "#### **Konfigurasi Checkpoints**\n",
        "Gunakan tf.keras.callbacks.ModelCheckpoint untuk memastikan bahwa checkpoint disimpan selama pelatihan:"
      ],
      "metadata": {
        "id": "G_cVUCDmne85"
      }
    },
    {
      "cell_type": "code",
      "source": [
        "# Directory where the checkpoints will be saved\n",
        "checkpoint_dir = './training_checkpoints'\n",
        "# Name of the checkpoint files\n",
        "checkpoint_prefix = os.path.join(checkpoint_dir, \"ckpt_{epoch}\")\n",
        "\n",
        "checkpoint_callback = tf.keras.callbacks.ModelCheckpoint(\n",
        "    filepath=checkpoint_prefix,\n",
        "    save_weights_only=True)"
      ],
      "metadata": {
        "id": "wj3uCCY_ni_-"
      },
      "execution_count": 62,
      "outputs": []
    },
    {
      "cell_type": "markdown",
      "source": [
        "#### **Lakukan Proses Training**\n",
        "Agar waktu pelatihan tidak terlalu lama, gunakan 10 epoch untuk melatih model. Di Colab, setel runtime ke GPU untuk pelatihan yang lebih cepat."
      ],
      "metadata": {
        "id": "7Dd2TQ4anlab"
      }
    },
    {
      "cell_type": "code",
      "source": [
        "EPOCHS = 20"
      ],
      "metadata": {
        "id": "2aLuZh7cno8H"
      },
      "execution_count": 63,
      "outputs": []
    },
    {
      "cell_type": "code",
      "source": [
        "history=model.fit(dataset,epochs=EPOCHS,callbacks=[checkpoint_callback])"
      ],
      "metadata": {
        "colab": {
          "base_uri": "https://localhost:8080/"
        },
        "id": "PoayQKVrn2jf",
        "outputId": "fb05d7ba-2e24-40ce-e7a3-15a1310a0dc0"
      },
      "execution_count": 64,
      "outputs": [
        {
          "output_type": "stream",
          "name": "stdout",
          "text": [
            "Epoch 1/20\n",
            "172/172 [==============================] - 15s 64ms/step - loss: 2.6884\n",
            "Epoch 2/20\n",
            "172/172 [==============================] - 12s 62ms/step - loss: 1.9679\n",
            "Epoch 3/20\n",
            "172/172 [==============================] - 12s 62ms/step - loss: 1.6924\n",
            "Epoch 4/20\n",
            "172/172 [==============================] - 12s 61ms/step - loss: 1.5359\n",
            "Epoch 5/20\n",
            "172/172 [==============================] - 12s 61ms/step - loss: 1.4402\n",
            "Epoch 6/20\n",
            "172/172 [==============================] - 12s 61ms/step - loss: 1.3721\n",
            "Epoch 7/20\n",
            "172/172 [==============================] - 12s 61ms/step - loss: 1.3208\n",
            "Epoch 8/20\n",
            "172/172 [==============================] - 12s 61ms/step - loss: 1.2757\n",
            "Epoch 9/20\n",
            "172/172 [==============================] - 12s 61ms/step - loss: 1.2348\n",
            "Epoch 10/20\n",
            "172/172 [==============================] - 12s 63ms/step - loss: 1.1954\n",
            "Epoch 11/20\n",
            "172/172 [==============================] - 13s 61ms/step - loss: 1.1546\n",
            "Epoch 12/20\n",
            "172/172 [==============================] - 12s 61ms/step - loss: 1.1129\n",
            "Epoch 13/20\n",
            "172/172 [==============================] - 12s 61ms/step - loss: 1.0686\n",
            "Epoch 14/20\n",
            "172/172 [==============================] - 12s 61ms/step - loss: 1.0223\n",
            "Epoch 15/20\n",
            "172/172 [==============================] - 12s 62ms/step - loss: 0.9738\n",
            "Epoch 16/20\n",
            "172/172 [==============================] - 13s 62ms/step - loss: 0.9217\n",
            "Epoch 17/20\n",
            "172/172 [==============================] - 13s 62ms/step - loss: 0.8700\n",
            "Epoch 18/20\n",
            "172/172 [==============================] - 13s 61ms/step - loss: 0.8192\n",
            "Epoch 19/20\n",
            "172/172 [==============================] - 12s 61ms/step - loss: 0.7677\n",
            "Epoch 20/20\n",
            "172/172 [==============================] - 12s 61ms/step - loss: 0.7224\n"
          ]
        }
      ]
    },
    {
      "cell_type": "markdown",
      "source": [
        "#### **Generate Teks**\n",
        "\n",
        "Cara termudah untuk menghasilkan teks dengan model ini adalah dengan menjalankannya dalam loop, dan menyimpan status internal model saat Anda menjalankannya.<p>\n",
        "\n",
        "<img src = \"https://raw.githubusercontent.com/tensorflow/text/master/docs/tutorials/images/text_generation_sampling.png\"><p>"
      ],
      "metadata": {
        "id": "1-78lVfFoo8k"
      }
    },
    {
      "cell_type": "markdown",
      "source": [
        "Setiap kali Anda memanggil model, Anda memasukkan beberapa teks dan state internal. Model mengembalikan prediksi untuk karakter berikutnya dan state barunya. Masukkan kembali prediksi dan state ke model untuk terus menghasilkan teks.<p>\n",
        "\n",
        "Berikut ini membuat prediksi satu langkah:"
      ],
      "metadata": {
        "id": "s75-_800o1mH"
      }
    },
    {
      "cell_type": "code",
      "source": [
        "class OneStep(tf.keras.Model):\n",
        "  def __init__(self, model, chars_from_ids, ids_from_chars, temperature=1.0):\n",
        "    super().__init__()\n",
        "    self.temperature = temperature\n",
        "    self.model = model\n",
        "    self.chars_from_ids = chars_from_ids\n",
        "    self.ids_from_chars = ids_from_chars\n",
        "\n",
        "    # Create a mask to prevent \"[UNK]\" from being generated.\n",
        "    skip_ids = self.ids_from_chars(['[UNK]'])[:, None]\n",
        "    sparse_mask = tf.SparseTensor(\n",
        "        # Put a -inf at each bad index.\n",
        "        values=[-float('inf')]*len(skip_ids),\n",
        "        indices=skip_ids,\n",
        "        # Match the shape to the vocabulary\n",
        "        dense_shape=[len(ids_from_chars.get_vocabulary())])\n",
        "    self.prediction_mask = tf.sparse.to_dense(sparse_mask)\n",
        "\n",
        "  @tf.function\n",
        "  def generate_one_step(self, inputs, states=None):\n",
        "    # Convert strings to token IDs.\n",
        "    input_chars = tf.strings.unicode_split(inputs, 'UTF-8')\n",
        "    input_ids = self.ids_from_chars(input_chars).to_tensor()\n",
        "\n",
        "    # Run the model.\n",
        "    # predicted_logits.shape is [batch, char, next_char_logits]\n",
        "    predicted_logits, states = self.model(inputs=input_ids, states=states,\n",
        "                                          return_state=True)\n",
        "    # Only use the last prediction.\n",
        "    predicted_logits = predicted_logits[:, -1, :]\n",
        "    predicted_logits = predicted_logits/self.temperature\n",
        "    # Apply the prediction mask: prevent \"[UNK]\" from being generated.\n",
        "    predicted_logits = predicted_logits + self.prediction_mask\n",
        "\n",
        "    # Sample the output logits to generate token IDs.\n",
        "    predicted_ids = tf.random.categorical(predicted_logits, num_samples=1)\n",
        "    predicted_ids = tf.squeeze(predicted_ids, axis=-1)\n",
        "\n",
        "    # Convert from token ids to characters\n",
        "    predicted_chars = self.chars_from_ids(predicted_ids)\n",
        "\n",
        "    # Return the characters and model state.\n",
        "    return predicted_chars, states"
      ],
      "metadata": {
        "id": "6NsWLf39o45E"
      },
      "execution_count": 65,
      "outputs": []
    },
    {
      "cell_type": "code",
      "source": [
        "one_step_model=OneStep(model,chars_from_ids,ids_from_chars)"
      ],
      "metadata": {
        "id": "0cuRSdUKo6i3"
      },
      "execution_count": 66,
      "outputs": []
    },
    {
      "cell_type": "markdown",
      "source": [
        "Jalankan secara berulang untuk menghasilkan beberapa teks. Melihat teks yang dihasilkan, Anda akan melihat model mengetahui kapan harus menggunakan huruf besar, membuat paragraf, dan meniru kosakata menulis seperti Shakespeare. Karena sedikitnya jumlah epoch pelatihan, model belum belajar membentuk kalimat runtut."
      ],
      "metadata": {
        "id": "iBiLabljo8Gb"
      }
    },
    {
      "cell_type": "code",
      "source": [
        "start = time.time()\n",
        "states = None\n",
        "next_char = tf.constant(['ROMEO:'])\n",
        "result = [next_char]\n",
        "\n",
        "for n in range(1000):\n",
        "  next_char, states = one_step_model.generate_one_step(next_char, states=states)\n",
        "  result.append(next_char)\n",
        "\n",
        "result = tf.strings.join(result)\n",
        "end = time.time()\n",
        "print(result[0].numpy().decode('utf-8'), '\\n\\n' + '_'*80)\n",
        "print('\\nRun time:', end - start)"
      ],
      "metadata": {
        "colab": {
          "base_uri": "https://localhost:8080/"
        },
        "id": "bJ0GsvmPo9Xe",
        "outputId": "d80013be-0607-4436-b3ac-84c57e862a7f"
      },
      "execution_count": 67,
      "outputs": [
        {
          "output_type": "stream",
          "name": "stdout",
          "text": [
            "ROMEO:\n",
            "How had I command, beseeming over-meat men?\n",
            "Bound thee up London, Tranio stops me\n",
            "His put on me: but I'll attend him legly,\n",
            "For this his general; where is that under king so sticks.\n",
            "What now is last, and sit and satisfaction me\n",
            "I kiss ye now.\n",
            "\n",
            "DUKE VINCENTIO:\n",
            "I had a Roman: are you so oft love?\n",
            "O, if we razed him with her best\n",
            "Until my father's statues with speed.\n",
            "\n",
            "SLY:\n",
            "Nay, take this, by the dove-bed of the Volscian state,\n",
            "My life is more than I am leared to acquaint thee.\n",
            "\n",
            "Second Paulina.\n",
            "\n",
            "PAULINA:\n",
            "How! talk's articles;\n",
            "Your tribe are pardon'd, is am enmorn'd\n",
            "Of breathing native Edward's baseful wind,\n",
            "Whom sweetle's like neld--array north,\n",
            "And with the farmerit here before him well: good fathers\n",
            "Thou know'st then let the duke as dear?\n",
            "\n",
            "QUEEN MARGARET:\n",
            "Foul rundin bars! making a woman countryman,\n",
            "They'll pardon him abjectruing in my elight:\n",
            "But yet my master hath affections withwit.\n",
            "\n",
            "PAULINA:\n",
            "I'll not be long;\n",
            "And say so stands the truth: or should be sworn;\n",
            "What else, see the golden \n",
            "\n",
            "________________________________________________________________________________\n",
            "\n",
            "Run time: 6.276118993759155\n"
          ]
        }
      ]
    },
    {
      "cell_type": "markdown",
      "source": [
        "Hal termudah yang dapat Anda lakukan untuk meningkatkan hasil adalah dengan melatihnya lebih lama (coba EPOCHS = 30). Anda juga dapat bereksperimen dengan string awal yang berbeda, mencoba menambahkan lapisan RNN lain untuk meningkatkan akurasi model, atau menyesuaikan parameter suhu untuk menghasilkan prediksi yang kurang lebih acak.<p>\n",
        "Jika Anda ingin model menghasilkan teks lebih cepat, hal termudah yang dapat Anda lakukan adalah membuat teks secara batch. Pada contoh di bawah, model menghasilkan 5 keluaran dalam waktu yang hampir sama dengan waktu yang dibutuhkan untuk menghasilkan 1 keluaran di atas."
      ],
      "metadata": {
        "id": "c4BvlfvepAhX"
      }
    },
    {
      "cell_type": "code",
      "source": [
        "start = time.time()\n",
        "states = None\n",
        "next_char = tf.constant(['ROMEO:', 'ROMEO:', 'ROMEO:', 'ROMEO:', 'ROMEO:'])\n",
        "result = [next_char]\n",
        "\n",
        "for n in range(1000):\n",
        "  next_char, states = one_step_model.generate_one_step(next_char, states=states)\n",
        "  result.append(next_char)\n",
        "\n",
        "result = tf.strings.join(result)\n",
        "end = time.time()\n",
        "print(result, '\\n\\n' + '_'*80)\n",
        "print('\\nRun time:', end - start)"
      ],
      "metadata": {
        "colab": {
          "base_uri": "https://localhost:8080/"
        },
        "id": "3lLGIhHIpASq",
        "outputId": "94e5df11-5369-4ccc-abbc-9e9221a33a32"
      },
      "execution_count": 68,
      "outputs": [
        {
          "output_type": "stream",
          "name": "stdout",
          "text": [
            "tf.Tensor(\n",
            "[b\"ROMEO:\\nIt shall be done, that that but make the marriage\\nMay marry you dislike it to none let us but a part;\\nAnd so a dined and appear of fears,\\nMaking the extremetive there can us with me?\\n\\nHENRY BOLINGBROKE:\\nLet us us with thee by my praints we mastards\\nThan I may harlot of trems, Eftreath might here behere\\nThe king redeems from basings child, must get her to\\nconfess it, or be an impossibility.\\nWill you, gentlemen! can, be thou and myself.\\n\\nLord Mayor:\\nMaster let's says he is oft let her miscarried\\nWith fairness: but thou regliest are now now-wardly,\\nWhom creeping trems against their wives,\\nBut knef it live more cares on with sweet.\\nSir, I every harm thus: this is mock.\\n\\nKATHARINA:\\nMinife thy nord, take each one pardon.\\n\\nMARCIUS:\\nDo not be ready with you, goes threatens,\\nSignior Baptista's life, she's dead, to bear a wife.\\nFame talk'd of Mercution speaks himself: he\\nwill so great a coverture of thence empation.\\n\\nKING HENRY VI:\\nHow far bolon, when thou art poor and to begged:\\nFor my party, \"\n",
            " b\"ROMEO:\\nO mercy! God-den you, first! Was this feat to deny him.\\n\\nISABELLA:\\nO just fellow, I will nothing here:\\nBut yea, me but tell you this much lives in Signior Lucento and\\nFrom sucret that I was on grant and fathio\\nAs my giving hims with straight this musician, as he\\nlook'd--God Morken kinsmen keeps you like a child.\\nDo not say he'll to France, my words.\\n3 KINR VINCENTIO:\\nAnd if ye come better than you please.\\n\\nDUKE OF YORK:\\nAht thou do now, kiss I guess, Mercution gently;\\nAnd so have waitou to interphable content.\\nWill you tull us he, he's coming; for my sceptre is\\nA royal duke before him in the thoughts: but e'er Marcius\\nWears this fashion-day or two New-exile.\\nHere let us hear, my kingdom castle off of life:\\nI am cold title on no earling, bones,\\nHorse and defones had won, it is employ'd.\\n\\nGLUUCESTER:\\nThe common gratious citizens keep your king:\\nMy best say note of it is,--\\nNo, nor the hour in this time, what means his\\noath: that we cursed there to give the foured son\\nFit over his deeds \"\n",
            " b\"ROMEO:\\nThe great heart what he in safety of their wives, and he\\nwhich not the palace fad so far proverburing, in one perpetual,\\nrevenue your father's tempest under him:\\nHis name the kingdom cannot apparel 'O:\\n'Tis done that runsman and to our them as you\\nA waken to the field; then am\\nI kithed at: it ill commission\\nfasteny. We shall go to-night before your persons to\\nspeak yield. CAMelting a\\nClarence came from vain devil.\\nThus stands him? else him till eyer ready in mine honour\\nThink so loised by no maid a troabing friend:\\nWhat is the next hand? he was\\nOf blessed shruighs upon thy head in vend\\nmen jause.\\n\\nARCHIDAMUS:\\nWho should knock you not?\\n\\nBIOND LENRY VOLIO:\\nWhy, look you, on't will find with swords\\nTo the resolution of my creditors: behold this be\\nfamody, when I be regainly in dereful\\nThan Bidy persons me with them; and\\nso long are born, in time shall never change thee speat.\\n\\nQUEEN MARGARET:\\nO masters all, sir, than she is change to bear.\\n\\nMOPSA:\\nThere is no hope-merit, we'll pluck on h\"\n",
            " b\"ROMEO:\\n'Tis he; your mother is as yours, come hither, Master\\nForthling to a famain. What, my lord, it is sent to her.\\n\\nQUEEN MARGARET:\\nMy name a warrant most cheer, my mans;\\nAnd with sweet weighs King of Bushick,\\nWhich in my jadeful deeds committed him.\\n\\nARCHIDAMUS:\\nIf it just, being a tiggett with the lie, and\\nTo bear upon the war! thy trespass so long aid?\\nGallows on, brother, oft with her! My grave came we\\nare here as e:et we straight impartial, and return\\nFrom time andell'd weep Doricless till they called my oath\\nTo call ut when you pity, presentet,\\nWhom son,\\nTell her, or Cherriss have more cause to bed,\\nWhen lies me for't; because the gates and greatness that made themselves\\nThan might better than a pupsis body:\\nWell, crowns, then cursed she yet doth remove\\nBy accounty makes thee take off our love:\\nunkindly shall be funk as greater stretgless skins have easier of service:\\nBefore we needled to her sailors, bring in face,\\nAnd lack'd and like to assist Tybalt rubours' kinsmen.\\n\\nLord:\\nFor m\"\n",
            " b\"ROMEO:\\nYour grace shall pay Tybalt will make,\\nAnd saw to him.\\nAnd for our drawn success well as I,\\nOr bite thou knowest when he come behind him.\\n\\nPAULINA:\\nLord gallant Grey,\\nWhate'er I see thyself so granter. This mischance be\\nthus longer to the villain with her! Do we marry me here?\\n\\nDUKE VINCENTIO:\\nI pray heaven, what sadest thou think'st we breath?\\nIt may call him my master will the portion's impeach;\\nAnd then am I king of an aught but Rome, such amorous night:\\nBeing adventure henceforth down your grace speak, who have put\\nto teach her to---who's so great make done\\nSometime had been bound to her forth. I am the\\ncheques steal the letestops. Come pitied ear.\\n\\nJOHN OF Gent Messenger:\\nWe shall entreat the sun this moandian arm up-grate.\\n\\nLORD Fiturands: Spirchance\\nWe look on't. I must all the inson'd of all\\nMenering wits than what's the friend.\\nThis last, my lord, here could they be a poor;\\nAnd so with mine uncles gnatless he had faced stealth\\nWith a loss of us all, good Bannalte, one that\\nTu\"], shape=(5,), dtype=string) \n",
            "\n",
            "________________________________________________________________________________\n",
            "\n",
            "Run time: 3.910518169403076\n"
          ]
        }
      ]
    },
    {
      "cell_type": "markdown",
      "source": [
        "#### **Ekspor Model Generator**\n",
        "Model satu langkah ini dapat dengan mudah disimpan dan digunakan kembali, memungkinkan Anda menggunakannya di mana pun tf.saved_model diterima."
      ],
      "metadata": {
        "id": "nuE7o-E2pGzi"
      }
    },
    {
      "cell_type": "code",
      "source": [
        "tf.saved_model.save(one_step_model, 'one_step')\n",
        "one_step_reloaded = tf.saved_model.load('one_step')"
      ],
      "metadata": {
        "colab": {
          "base_uri": "https://localhost:8080/"
        },
        "id": "sMptLykppKBs",
        "outputId": "04b0b218-9d80-4833-e628-f7bff9627974"
      },
      "execution_count": 69,
      "outputs": [
        {
          "output_type": "stream",
          "name": "stderr",
          "text": [
            "WARNING:tensorflow:Skipping full serialization of Keras layer <__main__.OneStep object at 0x7c7fb1e34250>, because it is not built.\n",
            "WARNING:tensorflow:Model's `__init__()` arguments contain non-serializable objects. Please implement a `get_config()` method in the subclassed Model for proper saving and loading. Defaulting to empty config.\n",
            "WARNING:tensorflow:Model's `__init__()` arguments contain non-serializable objects. Please implement a `get_config()` method in the subclassed Model for proper saving and loading. Defaulting to empty config.\n"
          ]
        }
      ]
    },
    {
      "cell_type": "code",
      "source": [
        "states = None\n",
        "next_char = tf.constant(['ROMEO:'])\n",
        "result = [next_char]\n",
        "\n",
        "for n in range(100):\n",
        "  next_char, states = one_step_reloaded.generate_one_step(next_char, states=states)\n",
        "  result.append(next_char)\n",
        "\n",
        "print(tf.strings.join(result)[0].numpy().decode(\"utf-8\"))"
      ],
      "metadata": {
        "colab": {
          "base_uri": "https://localhost:8080/"
        },
        "id": "1evxxnz5pLQI",
        "outputId": "1a166a5a-680f-43d1-be64-7aeb7bc36b35"
      },
      "execution_count": 70,
      "outputs": [
        {
          "output_type": "stream",
          "name": "stdout",
          "text": [
            "ROMEO:\n",
            "By arm and integrity, which he\n",
            "And urneated the news; what's thy news we have to\n",
            "think in taster ta\n"
          ]
        }
      ]
    },
    {
      "cell_type": "markdown",
      "source": [
        "### **Tugas**\n",
        "\n",
        "Prosedur pelatihan pada praktikum 2 merupakan prosedur sederhana, yang tidak memberi Anda banyak kendali. Model ini menggunakan \"teacher-forcing\" yang mencegah prediksi buruk diumpankan kembali ke model, sehingga model tidak pernah belajar untuk pulih dari kesalahan. Jadi, setelah Anda melihat cara menjalankan model secara manual, selanjutnya Anda akan mengimplementasikan custom loop pelatihan. Hal ini memberikan titik awal jika, misalnya, Anda ingin menerapkan pembelajaran kurikulum untuk membantu menstabilkan keluaran open-loop model. Bagian terpenting dari loop pelatihan khusus adalah fungsi langkah pelatihan.<p>\n",
        "Gunakan tf.GradientTape untuk men track nilai gradient. Anda dapat mempelajari lebih lanjut tentang pendekatan ini dengan membaca eager execution guide.<p>\n",
        "\n",
        "Prosedurnya adalah<p>\n",
        "1. Jalankan Model dan hitung loss dengan tf.GradientTape.\n",
        "2. Hitung update dan terapkan pada model dengan optimizer"
      ],
      "metadata": {
        "id": "dighPNItqrOf"
      }
    },
    {
      "cell_type": "code",
      "source": [
        "import tensorflow as tf\n",
        "import numpy as np\n",
        "import os\n",
        "import time"
      ],
      "metadata": {
        "id": "m1dVe8FxrDuU"
      },
      "execution_count": 1,
      "outputs": []
    },
    {
      "cell_type": "code",
      "source": [
        "path_to_file = tf.keras.utils.get_file('shakespeare.txt', 'https://storage.googleapis.com/download.tensorflow.org/data/shakespeare.txt')"
      ],
      "metadata": {
        "colab": {
          "base_uri": "https://localhost:8080/"
        },
        "id": "lGwHLE94tEdQ",
        "outputId": "22637132-86c5-48f8-f052-34eb3d5c28b6"
      },
      "execution_count": 2,
      "outputs": [
        {
          "output_type": "stream",
          "name": "stdout",
          "text": [
            "Downloading data from https://storage.googleapis.com/download.tensorflow.org/data/shakespeare.txt\n",
            "1115394/1115394 [==============================] - 1s 1us/step\n"
          ]
        }
      ]
    },
    {
      "cell_type": "code",
      "source": [
        "class CustomTraining(MyModel):\n",
        "  @tf.function\n",
        "  def train_step(self, inputs):\n",
        "    inputs, labels = inputs\n",
        "    with tf.GradientTape() as tape:\n",
        "      predictions = self(inputs, training=True)\n",
        "      loss = self.loss(labels, predictions)\n",
        "      grads = tape.gradient(loss, model.trainable_variables)\n",
        "      self.optimizer.apply_gradients(zip(grads, model.trainable_variables))\n",
        "\n",
        "      return {'loss': loss}"
      ],
      "metadata": {
        "id": "UHyLdjeO2M9c"
      },
      "execution_count": 28,
      "outputs": []
    },
    {
      "cell_type": "code",
      "source": [
        "model = CustomTraining(\n",
        "    vocab_size=len(ids_from_chars.get_vocabulary()),\n",
        "    embedding_dim=embedding_dim,\n",
        "    rnn_units=rnn_units)"
      ],
      "metadata": {
        "id": "ywtAYFkx2SyR"
      },
      "execution_count": 29,
      "outputs": []
    },
    {
      "cell_type": "code",
      "source": [
        "model.compile(optimizer = tf.keras.optimizers.Adam(), loss=tf.keras.losses.SparseCategoricalCrossentropy(from_logits=True))"
      ],
      "metadata": {
        "id": "imVJ1bK42WA7"
      },
      "execution_count": 30,
      "outputs": []
    },
    {
      "cell_type": "code",
      "source": [
        "model.fit(dataset, epochs=1)"
      ],
      "metadata": {
        "colab": {
          "base_uri": "https://localhost:8080/"
        },
        "id": "keUPx7s22Xx2",
        "outputId": "927f4023-7a88-480d-f3a6-14dae3199eb3"
      },
      "execution_count": 31,
      "outputs": [
        {
          "output_type": "stream",
          "name": "stdout",
          "text": [
            "172/172 [==============================] - 19s 66ms/step - loss: 2.7159\n"
          ]
        },
        {
          "output_type": "execute_result",
          "data": {
            "text/plain": [
              "<keras.src.callbacks.History at 0x7e2b7e789f30>"
            ]
          },
          "metadata": {},
          "execution_count": 31
        }
      ]
    },
    {
      "cell_type": "code",
      "source": [
        "EPOCHS = 10\n",
        "\n",
        "mean = tf.metrics.Mean()\n",
        "\n",
        "for epoch in range(EPOCHS):\n",
        "  start = time.time()\n",
        "\n",
        "  mean.reset_states()\n",
        "  for (batch_n, (inp, target)) in enumerate(dataset):\n",
        "    logs = model.train_step([inp, target])\n",
        "    mean.update_state(logs['loss'])\n",
        "\n",
        "    if batch_n % 50 == 0:\n",
        "      template = f\"Epoch {epoch+1} Batch {batch_n} Loss {logs['loss']:.4f}\"\n",
        "      print(template)\n",
        "\n",
        "  # saving (checkpoint) the model every 5 epochs\n",
        "  if (epoch + 1) % 5 == 0:\n",
        "    model.save_weights(checkpoint_prefix.format(epoch=epoch))\n",
        "\n",
        "  print()\n",
        "  print(f'Epoch {epoch+1} Loss: {mean.result().numpy():.4f}')\n",
        "  print(f'Time taken for 1 epoch {time.time() - start:.2f} sec')\n",
        "  print(\"_\"*80)\n",
        "\n",
        "model.save_weights(checkpoint_prefix.format(epoch=epoch))"
      ],
      "metadata": {
        "colab": {
          "base_uri": "https://localhost:8080/"
        },
        "id": "7-cJeV1w2bMP",
        "outputId": "33ff552d-e319-435b-e39c-9047fef6621a"
      },
      "execution_count": 32,
      "outputs": [
        {
          "output_type": "stream",
          "name": "stdout",
          "text": [
            "Epoch 1 Batch 0 Loss 2.1828\n",
            "Epoch 1 Batch 50 Loss 2.0793\n",
            "Epoch 1 Batch 100 Loss 1.9324\n",
            "Epoch 1 Batch 150 Loss 1.8536\n",
            "\n",
            "Epoch 1 Loss: 1.9844\n",
            "Time taken for 1 epoch 13.40 sec\n",
            "________________________________________________________________________________\n",
            "Epoch 2 Batch 0 Loss 1.8083\n",
            "Epoch 2 Batch 50 Loss 1.7637\n",
            "Epoch 2 Batch 100 Loss 1.7057\n",
            "Epoch 2 Batch 150 Loss 1.7041\n",
            "\n",
            "Epoch 2 Loss: 1.7069\n",
            "Time taken for 1 epoch 12.00 sec\n",
            "________________________________________________________________________________\n",
            "Epoch 3 Batch 0 Loss 1.6148\n",
            "Epoch 3 Batch 50 Loss 1.6362\n",
            "Epoch 3 Batch 100 Loss 1.4952\n",
            "Epoch 3 Batch 150 Loss 1.5257\n",
            "\n",
            "Epoch 3 Loss: 1.5476\n",
            "Time taken for 1 epoch 11.91 sec\n",
            "________________________________________________________________________________\n",
            "Epoch 4 Batch 0 Loss 1.4970\n",
            "Epoch 4 Batch 50 Loss 1.4302\n",
            "Epoch 4 Batch 100 Loss 1.4106\n",
            "Epoch 4 Batch 150 Loss 1.4000\n",
            "\n",
            "Epoch 4 Loss: 1.4497\n",
            "Time taken for 1 epoch 11.62 sec\n",
            "________________________________________________________________________________\n",
            "Epoch 5 Batch 0 Loss 1.3818\n",
            "Epoch 5 Batch 50 Loss 1.3860\n",
            "Epoch 5 Batch 100 Loss 1.3547\n",
            "Epoch 5 Batch 150 Loss 1.3810\n",
            "\n",
            "Epoch 5 Loss: 1.3829\n",
            "Time taken for 1 epoch 12.85 sec\n",
            "________________________________________________________________________________\n",
            "Epoch 6 Batch 0 Loss 1.3447\n",
            "Epoch 6 Batch 50 Loss 1.3072\n",
            "Epoch 6 Batch 100 Loss 1.3365\n",
            "Epoch 6 Batch 150 Loss 1.3075\n",
            "\n",
            "Epoch 6 Loss: 1.3303\n",
            "Time taken for 1 epoch 11.73 sec\n",
            "________________________________________________________________________________\n",
            "Epoch 7 Batch 0 Loss 1.2908\n",
            "Epoch 7 Batch 50 Loss 1.3093\n",
            "Epoch 7 Batch 100 Loss 1.3102\n",
            "Epoch 7 Batch 150 Loss 1.2841\n",
            "\n",
            "Epoch 7 Loss: 1.2847\n",
            "Time taken for 1 epoch 11.83 sec\n",
            "________________________________________________________________________________\n",
            "Epoch 8 Batch 0 Loss 1.2306\n",
            "Epoch 8 Batch 50 Loss 1.2121\n",
            "Epoch 8 Batch 100 Loss 1.2451\n",
            "Epoch 8 Batch 150 Loss 1.2493\n",
            "\n",
            "Epoch 8 Loss: 1.2448\n",
            "Time taken for 1 epoch 11.84 sec\n",
            "________________________________________________________________________________\n",
            "Epoch 9 Batch 0 Loss 1.2023\n",
            "Epoch 9 Batch 50 Loss 1.2007\n",
            "Epoch 9 Batch 100 Loss 1.1938\n",
            "Epoch 9 Batch 150 Loss 1.2392\n",
            "\n",
            "Epoch 9 Loss: 1.2054\n",
            "Time taken for 1 epoch 11.88 sec\n",
            "________________________________________________________________________________\n",
            "Epoch 10 Batch 0 Loss 1.1181\n",
            "Epoch 10 Batch 50 Loss 1.1742\n",
            "Epoch 10 Batch 100 Loss 1.1227\n",
            "Epoch 10 Batch 150 Loss 1.1685\n",
            "\n",
            "Epoch 10 Loss: 1.1656\n",
            "Time taken for 1 epoch 12.06 sec\n",
            "________________________________________________________________________________\n"
          ]
        }
      ]
    },
    {
      "cell_type": "markdown",
      "source": [
        "### **Kesimpulan**\n",
        "\n",
        "Perbedaan antara pendekatan pelatihan kode tugas dan praktikum 2 mencakup pendekatan yang berbeda dalam proses pelatihan. Praktikum 2 mengadopsi pendekatan pelatihan yang lebih sederhana dan umum dengan model.fit. Di sisi lain, dalam kode tugas, diterapkan pendekatan pelatihan yang lebih khusus dan rumit dengan sejumlah kustomisasi.\n",
        "\n",
        "Dalam pendekatan tugas ini, metode train_step dalam turunan model digunakan untuk mengontrol pelatihan pada tingkat batch. Ini melibatkan perhitungan loss, gradien, dan penerapan pembaruan bobot model menggunakan apply_gradients. Selain itu, tf.metrics.Mean digunakan untuk menghitung rata-rata loss selama pelatihan. Pendekatan ini memberikan lebih banyak fleksibilitas dan kendali dalam mengatur pelatihan model."
      ],
      "metadata": {
        "id": "3cNm_otU2p_x"
      }
    }
  ],
  "metadata": {
    "colab": {
      "provenance": [],
      "gpuType": "T4",
      "collapsed_sections": [
        "1633V2cVEfVD",
        "7ALUnzHwEcyr",
        "tcQZqdmPY9y9",
        "h3wWVkoCZouF",
        "2OKwGoOVaOL1",
        "r32QUWpJb4q2",
        "kZ5eTzzI1eA0",
        "QyEiLoL3KZwi",
        "RILtKxGBg-Xp",
        "6XRLUvr9h_vl",
        "CaFqTSKYijiE"
      ]
    },
    "kernelspec": {
      "display_name": "Python 3",
      "name": "python3"
    },
    "language_info": {
      "codemirror_mode": {
        "name": "ipython",
        "version": 3
      },
      "file_extension": ".py",
      "mimetype": "text/x-python",
      "name": "python",
      "nbconvert_exporter": "python",
      "pygments_lexer": "ipython3",
      "version": "3.11.4"
    },
    "accelerator": "GPU"
  },
  "nbformat": 4,
  "nbformat_minor": 0
}