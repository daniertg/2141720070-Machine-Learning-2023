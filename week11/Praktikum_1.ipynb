{
  "nbformat": 4,
  "nbformat_minor": 0,
  "metadata": {
    "colab": {
      "provenance": [],
      "gpuType": "T4"
    },
    "kernelspec": {
      "name": "python3",
      "display_name": "Python 3"
    },
    "language_info": {
      "name": "python"
    },
    "accelerator": "GPU"
  },
  "cells": [
    {
      "cell_type": "code",
      "source": [
        "from google.colab import drive\n",
        "drive.mount('/content/drive')"
      ],
      "metadata": {
        "colab": {
          "base_uri": "https://localhost:8080/"
        },
        "id": "JEJE3DNSK6mm",
        "outputId": "8f1d9cef-c359-4800-f2cf-9ed83c43f4a7"
      },
      "execution_count": 1,
      "outputs": [
        {
          "output_type": "stream",
          "name": "stdout",
          "text": [
            "Mounted at /content/drive\n"
          ]
        }
      ]
    },
    {
      "cell_type": "markdown",
      "source": [
        "### Praktikum 1"
      ],
      "metadata": {
        "id": "R0m4kRyb5O_Z"
      }
    },
    {
      "cell_type": "markdown",
      "source": [
        "#### Langkah 1 - Import Library"
      ],
      "metadata": {
        "id": "wpv_z5lS5VGE"
      }
    },
    {
      "cell_type": "code",
      "source": [
        "import tensorflow as tf\n",
        "from keras.preprocessing.image import ImageDataGenerator"
      ],
      "metadata": {
        "id": "kfk_Fxvr5Ylk"
      },
      "execution_count": 2,
      "outputs": []
    },
    {
      "cell_type": "markdown",
      "source": [
        "#### Langkah 2 - Pra Pengolahan DataPada\n",
        "tahap ini kita akan sedikit melakukan manipulasi pada citra yang digunakan. Manipulasi yang dilakukan diantaranya adalah normalisasi nilai piksel, koreksi kemiringan, pembesaran (zoom), dan flip."
      ],
      "metadata": {
        "id": "lhA8nYfc5nkK"
      }
    },
    {
      "cell_type": "markdown",
      "source": [
        "##### Langkah 2.1. Pra Pengolahan Data Training"
      ],
      "metadata": {
        "id": "VIH_898F5zCu"
      }
    },
    {
      "cell_type": "code",
      "source": [
        "train_datagen = ImageDataGenerator(rescale = 1./255,\n",
        "                                   shear_range = 0.2,\n",
        "                                   zoom_range = 0.2,\n",
        "                                   horizontal_flip = True)\n",
        "training_set = train_datagen.flow_from_directory('/content/drive/MyDrive/Semester 5/ML/Week11/dataset',\n",
        "                                                 target_size = (64, 64),\n",
        "                                                 batch_size = 32,\n",
        "                                                 class_mode = 'binary')"
      ],
      "metadata": {
        "colab": {
          "base_uri": "https://localhost:8080/"
        },
        "id": "vkTo_CuXKw0x",
        "outputId": "cd00690f-15dc-4d6a-93e4-73d5ac549f8e"
      },
      "execution_count": 3,
      "outputs": [
        {
          "output_type": "stream",
          "name": "stdout",
          "text": [
            "Found 10082 images belonging to 3 classes.\n"
          ]
        }
      ]
    },
    {
      "cell_type": "markdown",
      "source": [
        "##### Langkah 2.2. Pra Pengolahan Data Testing"
      ],
      "metadata": {
        "id": "aFVbtx3p52GY"
      }
    },
    {
      "cell_type": "code",
      "source": [
        "test_datagen = ImageDataGenerator(rescale = 1./255)\n",
        "test_set = test_datagen.flow_from_directory('/content/drive/MyDrive/Semester 5/ML/Week11/dataset',\n",
        "                                            target_size = (64, 64),\n",
        "                                            batch_size = 32,\n",
        "                                            class_mode = 'binary')"
      ],
      "metadata": {
        "colab": {
          "base_uri": "https://localhost:8080/"
        },
        "id": "0UakfyVM55Ks",
        "outputId": "62054013-4fd5-4633-99f3-fe2ce1b6dc81"
      },
      "execution_count": 4,
      "outputs": [
        {
          "output_type": "stream",
          "name": "stdout",
          "text": [
            "Found 10082 images belonging to 3 classes.\n"
          ]
        }
      ]
    },
    {
      "cell_type": "markdown",
      "source": [
        "#### Langkah 3 - Pembuatan Model CNN"
      ],
      "metadata": {
        "id": "dyunazxN6Bm5"
      }
    },
    {
      "cell_type": "markdown",
      "source": [
        "##### Langkah 3.1.  - Inisiasi Model CNN"
      ],
      "metadata": {
        "id": "CtosvnmW6DZ6"
      }
    },
    {
      "cell_type": "code",
      "source": [
        "cnn = tf.keras.models.Sequential()"
      ],
      "metadata": {
        "id": "E3vetXck6Guj"
      },
      "execution_count": 5,
      "outputs": []
    },
    {
      "cell_type": "markdown",
      "source": [
        "##### Langkah 3.2. - Pembuatan Layer Konvolusi 1"
      ],
      "metadata": {
        "id": "p_sQ0euY6MR5"
      }
    },
    {
      "cell_type": "code",
      "source": [
        "cnn.add(tf.keras.layers.Conv2D(filters=32, kernel_size=3, activation='relu', input_shape=[64, 64, 3]))"
      ],
      "metadata": {
        "id": "Q_zjOKUa6OKb"
      },
      "execution_count": 6,
      "outputs": []
    },
    {
      "cell_type": "markdown",
      "source": [
        "##### Langkah 3.3 - Pembuatan Layer Pooling 1"
      ],
      "metadata": {
        "id": "y6NANSuH6SVy"
      }
    },
    {
      "cell_type": "code",
      "source": [
        "cnn.add(tf.keras.layers.MaxPool2D(pool_size=2, strides=2))"
      ],
      "metadata": {
        "id": "LvjVX64u6UjC"
      },
      "execution_count": 7,
      "outputs": []
    },
    {
      "cell_type": "markdown",
      "source": [
        "##### Langkah 3.4 - Pembuatan Layer Konvolusi 2 dan Pooling 2"
      ],
      "metadata": {
        "id": "L_x-JCcT6XVl"
      }
    },
    {
      "cell_type": "code",
      "source": [
        "cnn.add(tf.keras.layers.Conv2D(filters=32, kernel_size=3, activation='relu'))\n",
        "cnn.add(tf.keras.layers.MaxPool2D(pool_size=2, strides=2))"
      ],
      "metadata": {
        "id": "SZYgxf4f6ZRA"
      },
      "execution_count": 8,
      "outputs": []
    },
    {
      "cell_type": "markdown",
      "source": [
        "##### Langkah 3.5 - Flattening"
      ],
      "metadata": {
        "id": "FuXK1Ibl6dO-"
      }
    },
    {
      "cell_type": "code",
      "source": [
        "cnn.add(tf.keras.layers.Flatten())"
      ],
      "metadata": {
        "id": "mfc22TCy6fab"
      },
      "execution_count": 9,
      "outputs": []
    },
    {
      "cell_type": "markdown",
      "source": [
        "##### Langkah 3.6 - Fully Connected Layer 1 (Input)"
      ],
      "metadata": {
        "id": "9nWasyRP6hTN"
      }
    },
    {
      "cell_type": "code",
      "source": [
        "cnn.add(tf.keras.layers.Dense(units=128, activation='relu'))"
      ],
      "metadata": {
        "id": "wVReHyGv6mIC"
      },
      "execution_count": 10,
      "outputs": []
    },
    {
      "cell_type": "markdown",
      "source": [
        "##### Langkah 3.7 - Fully Connected Layer 2 (Output)"
      ],
      "metadata": {
        "id": "YXbp5AJ56pdV"
      }
    },
    {
      "cell_type": "code",
      "source": [
        "cnn.add(tf.keras.layers.Dense(units=1, activation='sigmoid'))"
      ],
      "metadata": {
        "id": "Apg0auFO6pL1"
      },
      "execution_count": 11,
      "outputs": []
    },
    {
      "cell_type": "markdown",
      "source": [
        "##### Langkah 3.8 - Compile Model CNN"
      ],
      "metadata": {
        "id": "MZM9udND6tyT"
      }
    },
    {
      "cell_type": "code",
      "source": [
        "cnn.compile(optimizer = 'adam', loss = 'binary_crossentropy', metrics = ['accuracy'])"
      ],
      "metadata": {
        "id": "11D50ANY6v1h"
      },
      "execution_count": 12,
      "outputs": []
    },
    {
      "cell_type": "markdown",
      "source": [
        "#### Langkah 4 - Fit CNN"
      ],
      "metadata": {
        "id": "MNcPB1S46ze5"
      }
    },
    {
      "cell_type": "code",
      "source": [
        "cnn.fit(x = training_set, validation_data = test_set, epochs = 25)"
      ],
      "metadata": {
        "colab": {
          "base_uri": "https://localhost:8080/"
        },
        "id": "5yGC4QYm61OU",
        "outputId": "db2ae2a9-5b78-4492-e864-8a75bd572c5e"
      },
      "execution_count": 13,
      "outputs": [
        {
          "output_type": "stream",
          "name": "stdout",
          "text": [
            "Epoch 1/25\n",
            "316/316 [==============================] - 1398s 4s/step - loss: -41215320.0000 - accuracy: 0.1989 - val_loss: -238017472.0000 - val_accuracy: 0.1994\n",
            "Epoch 2/25\n",
            "316/316 [==============================] - 66s 209ms/step - loss: -1765604736.0000 - accuracy: 0.1994 - val_loss: -4749679616.0000 - val_accuracy: 0.1994\n",
            "Epoch 3/25\n",
            "316/316 [==============================] - 68s 216ms/step - loss: -44483530752.0000 - accuracy: 0.1994 - val_loss: -71669014528.0000 - val_accuracy: 0.1994\n",
            "Epoch 5/25\n",
            "316/316 [==============================] - 67s 212ms/step - loss: -112146743296.0000 - accuracy: 0.1994 - val_loss: -162462957568.0000 - val_accuracy: 0.1994\n",
            "Epoch 6/25\n",
            "316/316 [==============================] - 68s 214ms/step - loss: -230120439808.0000 - accuracy: 0.1994 - val_loss: -311984848896.0000 - val_accuracy: 0.1994\n",
            "Epoch 7/25\n",
            "316/316 [==============================] - 83s 262ms/step - loss: -413991272448.0000 - accuracy: 0.1994 - val_loss: -534589931520.0000 - val_accuracy: 0.1994\n",
            "Epoch 8/25\n",
            "316/316 [==============================] - 66s 209ms/step - loss: -677811126272.0000 - accuracy: 0.1994 - val_loss: -845465714688.0000 - val_accuracy: 0.1994\n",
            "Epoch 9/25\n",
            "316/316 [==============================] - 66s 211ms/step - loss: -1034838736896.0000 - accuracy: 0.1994 - val_loss: -1256769978368.0000 - val_accuracy: 0.1994\n",
            "Epoch 10/25\n",
            "316/316 [==============================] - 67s 213ms/step - loss: -1502665768960.0000 - accuracy: 0.1994 - val_loss: -1784987779072.0000 - val_accuracy: 0.1994\n",
            "Epoch 11/25\n",
            "316/316 [==============================] - 66s 208ms/step - loss: -2088354840576.0000 - accuracy: 0.1994 - val_loss: -2441128706048.0000 - val_accuracy: 0.1994\n",
            "Epoch 12/25\n",
            "316/316 [==============================] - 66s 210ms/step - loss: -2812938813440.0000 - accuracy: 0.1994 - val_loss: -3242059366400.0000 - val_accuracy: 0.1994\n",
            "Epoch 13/25\n",
            "316/316 [==============================] - 67s 212ms/step - loss: -3685130436608.0000 - accuracy: 0.1994 - val_loss: -4195559407616.0000 - val_accuracy: 0.1994\n",
            "Epoch 14/25\n",
            "316/316 [==============================] - 68s 215ms/step - loss: -4713469181952.0000 - accuracy: 0.1994 - val_loss: -5318266847232.0000 - val_accuracy: 0.1994\n",
            "Epoch 15/25\n",
            "316/316 [==============================] - 66s 211ms/step - loss: -5922133901312.0000 - accuracy: 0.1994 - val_loss: -6626391097344.0000 - val_accuracy: 0.1994\n",
            "Epoch 16/25\n",
            "316/316 [==============================] - 82s 260ms/step - loss: -7318327001088.0000 - accuracy: 0.1994 - val_loss: -8132990337024.0000 - val_accuracy: 0.1994\n",
            "Epoch 17/25\n",
            "316/316 [==============================] - 66s 208ms/step - loss: -8926140563456.0000 - accuracy: 0.1994 - val_loss: -9848793071616.0000 - val_accuracy: 0.1994\n",
            "Epoch 18/25\n",
            "316/316 [==============================] - 66s 209ms/step - loss: -10732403949568.0000 - accuracy: 0.1994 - val_loss: -11792455565312.0000 - val_accuracy: 0.1994\n",
            "Epoch 19/25\n",
            "316/316 [==============================] - 66s 211ms/step - loss: -12800114032640.0000 - accuracy: 0.1994 - val_loss: -13976271323136.0000 - val_accuracy: 0.1994\n",
            "Epoch 20/25\n",
            "316/316 [==============================] - 82s 260ms/step - loss: -15097221087232.0000 - accuracy: 0.1994 - val_loss: -16414994857984.0000 - val_accuracy: 0.1994\n",
            "Epoch 21/25\n",
            "316/316 [==============================] - 66s 209ms/step - loss: -17646384840704.0000 - accuracy: 0.1994 - val_loss: -19126953181184.0000 - val_accuracy: 0.1994\n",
            "Epoch 22/25\n",
            "316/316 [==============================] - 66s 208ms/step - loss: -20490804527104.0000 - accuracy: 0.1994 - val_loss: -22124959891456.0000 - val_accuracy: 0.1994\n",
            "Epoch 23/25\n",
            "316/316 [==============================] - 66s 208ms/step - loss: -23623702151168.0000 - accuracy: 0.1994 - val_loss: -25430650257408.0000 - val_accuracy: 0.1994\n",
            "Epoch 24/25\n",
            "316/316 [==============================] - 81s 257ms/step - loss: -27070822350848.0000 - accuracy: 0.1994 - val_loss: -29062097534976.0000 - val_accuracy: 0.1994\n",
            "Epoch 25/25\n",
            "316/316 [==============================] - 65s 207ms/step - loss: -30830067974144.0000 - accuracy: 0.1994 - val_loss: -33028376100864.0000 - val_accuracy: 0.1994\n"
          ]
        },
        {
          "output_type": "execute_result",
          "data": {
            "text/plain": [
              "<keras.src.callbacks.History at 0x7e03877f8c70>"
            ]
          },
          "metadata": {},
          "execution_count": 13
        }
      ]
    },
    {
      "cell_type": "markdown",
      "source": [
        "#### Langkah 5 - Prediksi dengan 1 Citra"
      ],
      "metadata": {
        "id": "rZ_qWCAo6362"
      }
    },
    {
      "cell_type": "code",
      "source": [
        "import numpy as np\n",
        "from keras.preprocessing import image\n",
        "test_image = image.load_img('/content/drive/MyDrive/Semester 5/ML/Week11/dataset/single_prediction/cat_or_dog_1.jpg', target_size = (64, 64))\n",
        "test_image = image.img_to_array(test_image)\n",
        "test_image = np.expand_dims(test_image, axis = 0)\n",
        "result = cnn.predict(test_image)\n",
        "training_set.class_indices\n",
        "if result[0][0] == 1:\n",
        "  prediction = 'dog'\n",
        "else:\n",
        "  prediction = 'cat'"
      ],
      "metadata": {
        "id": "5t5UvphN65ZH",
        "colab": {
          "base_uri": "https://localhost:8080/"
        },
        "outputId": "01823aca-e8a8-433c-b533-65088c56e53c"
      },
      "execution_count": 19,
      "outputs": [
        {
          "output_type": "stream",
          "name": "stdout",
          "text": [
            "1/1 [==============================] - 0s 53ms/step\n"
          ]
        }
      ]
    }
  ]
}