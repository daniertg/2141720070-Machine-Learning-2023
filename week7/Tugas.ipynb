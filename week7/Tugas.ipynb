{
 "cells": [
  {
   "cell_type": "markdown",
   "metadata": {},
   "source": [
    "## Tugas:\n",
    "### Buatlah sebuah model K-Means dengan ketentuan,\n",
    "\n",
    "1.Gunakan data 'Mall_Customers.csv'\n",
    "\n",
    "2.Tentukan fitur apa yang tepat untuk melakukan clustering (minimal 2)\n",
    "\n",
    "3.Buatlah model K-Means dengan mempertimbangkan jumlah k yang terbaik.\n",
    "\n",
    "4.Buatlah implementasi model SOM untuk segmentasi citra lain"
   ]
  },
  {
   "cell_type": "code",
   "execution_count": 1,
   "metadata": {},
   "outputs": [],
   "source": [
    "# Gunakan data 'Mall_Customers.csv'\n",
    "import pandas as pd\n",
    "import numpy as np\n",
    "import seaborn as sns\n",
    "import matplotlib.pyplot as plt\n",
    "from sklearn.cluster import KMeans\n",
    "\n",
    "df = pd.read_csv('data/Mall_Customers.csv')"
   ]
  },
  {
   "cell_type": "code",
   "execution_count": null,
   "metadata": {},
   "outputs": [],
   "source": []
  }
 ],
 "metadata": {
  "kernelspec": {
   "display_name": "base",
   "language": "python",
   "name": "python3"
  },
  "language_info": {
   "codemirror_mode": {
    "name": "ipython",
    "version": 3
   },
   "file_extension": ".py",
   "mimetype": "text/x-python",
   "name": "python",
   "nbconvert_exporter": "python",
   "pygments_lexer": "ipython3",
   "version": "3.11.4"
  }
 },
 "nbformat": 4,
 "nbformat_minor": 2
}
