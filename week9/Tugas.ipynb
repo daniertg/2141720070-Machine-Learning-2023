{
  "cells": [
    {
      "cell_type": "markdown",
      "metadata": {
        "id": "TlnT24JWmHUO"
      },
      "source": [
        "### Nama : Febrian Dani Ritonga\n",
        "### NIM  : 2141720070\n",
        "### Kelas : 3H\n",
        "### Kelompok : 3\n",
        "\n"
      ]
    },
    {
      "cell_type": "markdown",
      "metadata": {
        "id": "XMSVkc-vjT3c"
      },
      "source": [
        "# Tugas\n",
        "* Lakukan klasifikasi pada data MNIST dengan menggunakan model ANN\n",
        "\n",
        "* Anda diperbolehkan melakukan eksplorasi terhadap,\n",
        "\n",
        "1. Metode pra pengolahan\n",
        "2. Pemilihan fitur\n",
        "3. Arsitektur ANN\n",
        "4. Fungsi Aktiviasi\n",
        "\n",
        "* ANN diimplementasikan dengan menggunakan tensorflow.\n",
        "\n",
        "* DIKERJAKAN SECARA BERKELOMPOK\n",
        "\n",
        "* JELASKAN HASIL YANG ANDA DAPATKAN,\n",
        "\n",
        "  1. AKURASI\n",
        "  2. CONFUSION MATRIX\n",
        "  3. KONFIGURASI MODEL --> MULAI DARI PRA PENGOLAHAN SAMPAI ARSITEKTUR ANN"
      ]
    },
    {
      "cell_type": "code",
      "execution_count": 1,
      "metadata": {
        "id": "QsI4WumCidpt"
      },
      "outputs": [],
      "source": [
        "import tensorflow as tf\n",
        "from tensorflow.keras import layers, models\n",
        "from sklearn.datasets import fetch_openml\n",
        "from sklearn.model_selection import train_test_split\n",
        "import numpy as np\n",
        "import matplotlib.pyplot as plt\n",
        "from sklearn.metrics import confusion_matrix, accuracy_score\n",
        "from sklearn.decomposition import PCA\n",
        "from tensorflow.keras.optimizers import Adam"
      ]
    },
    {
      "cell_type": "code",
      "execution_count": 2,
      "metadata": {
        "colab": {
          "base_uri": "https://localhost:8080/"
        },
        "id": "aIGwdZj4kZ-N",
        "outputId": "699de987-ef37-48c0-ffee-23fa2ae5c824"
      },
      "outputs": [
        {
          "name": "stderr",
          "output_type": "stream",
          "text": [
            "/usr/local/lib/python3.10/dist-packages/sklearn/datasets/_openml.py:968: FutureWarning: The default value of `parser` will change from `'liac-arff'` to `'auto'` in 1.4. You can set `parser='auto'` to silence this warning. Therefore, an `ImportError` will be raised from 1.4 if the dataset is dense and pandas is not installed. Note that the pandas parser may return different data types. See the Notes Section in fetch_openml's API doc for details.\n",
            "  warn(\n"
          ]
        }
      ],
      "source": [
        "# Unduh dataset MNIST dari scikit-learn\n",
        "mnist = fetch_openml('mnist_784')"
      ]
    },
    {
      "cell_type": "code",
      "execution_count": 3,
      "metadata": {
        "id": "ibXs_fg0kci1"
      },
      "outputs": [],
      "source": [
        "# Pisahkan data gambar dan label\n",
        "X = mnist.data.astype('float32')\n",
        "y = mnist.target.astype('int')"
      ]
    },
    {
      "cell_type": "code",
      "execution_count": 4,
      "metadata": {
        "id": "Sg6Cm55zkeKi"
      },
      "outputs": [],
      "source": [
        "# scaling\n",
        "X /= 255.0"
      ]
    },
    {
      "cell_type": "code",
      "execution_count": 5,
      "metadata": {
        "id": "Mz4rCNO6kh72"
      },
      "outputs": [],
      "source": [
        "# Split Data\n",
        "X_train, X_test, y_train, y_test = train_test_split(X, y, test_size=0.2, random_state=42)"
      ]
    },
    {
      "cell_type": "code",
      "execution_count": 6,
      "metadata": {
        "id": "ALrQzwWPknzn"
      },
      "outputs": [],
      "source": [
        "# ktraksi Fitur\n",
        "# Inisialisasi objek PCA dengan jumlah komponen yang diinginkan (misalnya, 100 komponen)\n",
        "n_components = 200  # Ubah sesuai dengan kebutuhan Anda\n",
        "pca = PCA(n_components=n_components)\n",
        "\n",
        "# Fit-transform pada data pelatihan\n",
        "X_train_pca= pca.fit_transform(X_train)\n",
        "\n",
        "# Transformasi data pengujian\n",
        "X_test_pca = pca.transform(X_test)"
      ]
    },
    {
      "cell_type": "code",
      "execution_count": 7,
      "metadata": {
        "id": "H85-mV-HkxNH"
      },
      "outputs": [],
      "source": [
        "# Arsitektur Model ANN\n",
        "model = models.Sequential([\n",
        "    layers.Flatten(input_shape=(n_components,)),\n",
        "    #layers.Input(shape = n_components),\n",
        "    layers.Dense(n_components, activation='relu'),\n",
        "    layers.Dense(64, activation='relu'),\n",
        "    layers.Dense(10, activation='softmax')\n",
        "])"
      ]
    },
    {
      "cell_type": "code",
      "execution_count": 8,
      "metadata": {
        "colab": {
          "base_uri": "https://localhost:8080/"
        },
        "id": "V0ougmrJk0aU",
        "outputId": "a8423102-528a-481f-f9c2-f2ffd4d95ecd"
      },
      "outputs": [
        {
          "name": "stdout",
          "output_type": "stream",
          "text": [
            "Model: \"sequential\"\n",
            "_________________________________________________________________\n",
            " Layer (type)                Output Shape              Param #   \n",
            "=================================================================\n",
            " flatten (Flatten)           (None, 200)               0         \n",
            "                                                                 \n",
            " dense (Dense)               (None, 200)               40200     \n",
            "                                                                 \n",
            " dense_1 (Dense)             (None, 64)                12864     \n",
            "                                                                 \n",
            " dense_2 (Dense)             (None, 10)                650       \n",
            "                                                                 \n",
            "=================================================================\n",
            "Total params: 53714 (209.82 KB)\n",
            "Trainable params: 53714 (209.82 KB)\n",
            "Non-trainable params: 0 (0.00 Byte)\n",
            "_________________________________________________________________\n"
          ]
        }
      ],
      "source": [
        "# Kompilasi Model\n",
        "learning_rate = 0.001\n",
        "optimizer = Adam(learning_rate=learning_rate)\n",
        "\n",
        "model.compile(optimizer=optimizer,\n",
        "              loss='sparse_categorical_crossentropy',\n",
        "              metrics=['accuracy'])\n",
        "model.summary()"
      ]
    },
    {
      "cell_type": "code",
      "execution_count": 9,
      "metadata": {
        "colab": {
          "base_uri": "https://localhost:8080/"
        },
        "id": "Hgy7Y-wZk7oj",
        "outputId": "21243e30-b942-42a2-e872-ea00d0276f0d"
      },
      "outputs": [
        {
          "name": "stdout",
          "output_type": "stream",
          "text": [
            "Epoch 1/20\n",
            "1400/1400 [==============================] - 6s 4ms/step - loss: 0.2660 - accuracy: 0.9238 - val_loss: 0.1330 - val_accuracy: 0.9594\n",
            "Epoch 2/20\n",
            "1400/1400 [==============================] - 5s 4ms/step - loss: 0.0873 - accuracy: 0.9739 - val_loss: 0.1051 - val_accuracy: 0.9663\n",
            "Epoch 3/20\n",
            "1400/1400 [==============================] - 7s 5ms/step - loss: 0.0509 - accuracy: 0.9848 - val_loss: 0.0998 - val_accuracy: 0.9702\n",
            "Epoch 4/20\n",
            "1400/1400 [==============================] - 5s 4ms/step - loss: 0.0326 - accuracy: 0.9900 - val_loss: 0.1000 - val_accuracy: 0.9705\n",
            "Epoch 5/20\n",
            "1400/1400 [==============================] - 6s 4ms/step - loss: 0.0201 - accuracy: 0.9944 - val_loss: 0.1059 - val_accuracy: 0.9706\n",
            "Epoch 6/20\n",
            "1400/1400 [==============================] - 7s 5ms/step - loss: 0.0161 - accuracy: 0.9949 - val_loss: 0.1117 - val_accuracy: 0.9689\n",
            "Epoch 7/20\n",
            "1400/1400 [==============================] - 10s 7ms/step - loss: 0.0144 - accuracy: 0.9955 - val_loss: 0.1136 - val_accuracy: 0.9737\n",
            "Epoch 8/20\n",
            "1400/1400 [==============================] - 10s 7ms/step - loss: 0.0129 - accuracy: 0.9957 - val_loss: 0.1251 - val_accuracy: 0.9718\n",
            "Epoch 9/20\n",
            "1400/1400 [==============================] - 7s 5ms/step - loss: 0.0094 - accuracy: 0.9967 - val_loss: 0.1264 - val_accuracy: 0.9711\n",
            "Epoch 10/20\n",
            "1400/1400 [==============================] - 7s 5ms/step - loss: 0.0106 - accuracy: 0.9962 - val_loss: 0.1399 - val_accuracy: 0.9717\n",
            "Epoch 11/20\n",
            "1400/1400 [==============================] - 8s 6ms/step - loss: 0.0109 - accuracy: 0.9961 - val_loss: 0.1343 - val_accuracy: 0.9717\n",
            "Epoch 12/20\n",
            "1400/1400 [==============================] - 4s 3ms/step - loss: 0.0070 - accuracy: 0.9977 - val_loss: 0.1394 - val_accuracy: 0.9728\n",
            "Epoch 13/20\n",
            "1400/1400 [==============================] - 8s 6ms/step - loss: 0.0088 - accuracy: 0.9972 - val_loss: 0.1669 - val_accuracy: 0.9704\n",
            "Epoch 14/20\n",
            "1400/1400 [==============================] - 4s 3ms/step - loss: 0.0088 - accuracy: 0.9970 - val_loss: 0.1614 - val_accuracy: 0.9707\n",
            "Epoch 15/20\n",
            "1400/1400 [==============================] - 6s 4ms/step - loss: 0.0073 - accuracy: 0.9976 - val_loss: 0.1594 - val_accuracy: 0.9729\n",
            "Epoch 16/20\n",
            "1400/1400 [==============================] - 6s 4ms/step - loss: 0.0054 - accuracy: 0.9984 - val_loss: 0.1531 - val_accuracy: 0.9726\n",
            "Epoch 17/20\n",
            "1400/1400 [==============================] - 7s 5ms/step - loss: 0.0070 - accuracy: 0.9975 - val_loss: 0.1715 - val_accuracy: 0.9706\n",
            "Epoch 18/20\n",
            "1400/1400 [==============================] - 6s 4ms/step - loss: 0.0088 - accuracy: 0.9969 - val_loss: 0.1953 - val_accuracy: 0.9706\n",
            "Epoch 19/20\n",
            "1400/1400 [==============================] - 7s 5ms/step - loss: 0.0047 - accuracy: 0.9984 - val_loss: 0.1745 - val_accuracy: 0.9715\n",
            "Epoch 20/20\n",
            "1400/1400 [==============================] - 6s 4ms/step - loss: 0.0057 - accuracy: 0.9980 - val_loss: 0.1766 - val_accuracy: 0.9709\n"
          ]
        }
      ],
      "source": [
        "# Training Model\n",
        "history = model.fit(X_train_pca, y_train, epochs=20, validation_split=0.2)"
      ]
    },
    {
      "cell_type": "code",
      "execution_count": 10,
      "metadata": {
        "colab": {
          "base_uri": "https://localhost:8080/"
        },
        "id": "wi9h_R3jlCyF",
        "outputId": "5e3d43d6-4e72-4be6-eb01-f48237de32a4"
      },
      "outputs": [
        {
          "name": "stdout",
          "output_type": "stream",
          "text": [
            "Loss:\n",
            "[0.26603999733924866, 0.08727371692657471, 0.0508730374276638, 0.032556649297475815, 0.020106039941310883, 0.016114264726638794, 0.0144197354093194, 0.012876765802502632, 0.00939482543617487, 0.010624970309436321, 0.010865407064557076, 0.007016831077635288, 0.008751392364501953, 0.008816956542432308, 0.00732510956004262, 0.005418562795966864, 0.006992659531533718, 0.008765277452766895, 0.004656360484659672, 0.005743671208620071]\n",
            "Validation Loss:\n",
            "[0.13298529386520386, 0.1051243245601654, 0.0997794046998024, 0.10001169145107269, 0.1059267446398735, 0.11165021359920502, 0.11362869292497635, 0.1250539869070053, 0.12638121843338013, 0.1399138867855072, 0.13431107997894287, 0.13939963281154633, 0.16691116988658905, 0.16140882670879364, 0.15943898260593414, 0.1531490832567215, 0.17145873606204987, 0.1953240931034088, 0.17453940212726593, 0.17663414776325226]\n",
            "Accuracy:\n",
            "[0.9237723350524902, 0.9739062786102295, 0.9847990870475769, 0.9900000095367432, 0.9944419860839844, 0.9948883652687073, 0.9954687356948853, 0.9956696629524231, 0.996674120426178, 0.9962499737739563, 0.99609375, 0.9976785778999329, 0.9971652030944824, 0.9969866275787354, 0.9975669384002686, 0.9984151721000671, 0.9975000023841858, 0.996874988079071, 0.9983705282211304, 0.9979910850524902]\n",
            "Validation Accuracy:\n",
            "[0.9593750238418579, 0.9663392901420593, 0.9701785445213318, 0.9705356955528259, 0.9706249833106995, 0.9689285755157471, 0.9736607074737549, 0.9717857241630554, 0.9710714221000671, 0.9716964364051819, 0.9716964364051819, 0.9727678298950195, 0.9704464077949524, 0.970714271068573, 0.9729464054107666, 0.9725893139839172, 0.9706249833106995, 0.9706249833106995, 0.9715178608894348, 0.9708928465843201]\n"
          ]
        }
      ],
      "source": [
        "# Kemudian Anda dapat mengakses informasi seperti ini:\n",
        "loss = history.history['loss']  # Histori nilai loss pada setiap epoch\n",
        "val_loss = history.history['val_loss']  # Histori nilai loss pada setiap epoch saat validasi\n",
        "accuracy = history.history['accuracy']  # Histori nilai akurasi pada setiap epoch\n",
        "val_accuracy = history.history['val_accuracy']  # Histori nilai akurasi pada setiap epoch saat validasi\n",
        "\n",
        "print(\"Loss:\")\n",
        "print(loss)\n",
        "\n",
        "print(\"Validation Loss:\")\n",
        "print(val_loss)\n",
        "\n",
        "print(\"Accuracy:\")\n",
        "print(accuracy)\n",
        "\n",
        "print(\"Validation Accuracy:\")\n",
        "print(val_accuracy)"
      ]
    },
    {
      "cell_type": "markdown",
      "metadata": {
        "id": "uu-2jknWlF4z"
      },
      "source": [
        "## Evaluasi Model"
      ]
    },
    {
      "cell_type": "code",
      "execution_count": 11,
      "metadata": {
        "colab": {
          "base_uri": "https://localhost:8080/",
          "height": 823
        },
        "id": "zZKDakrIlHFA",
        "outputId": "0fdcfa43-1970-4d2b-9eff-938c81ca63a3"
      },
      "outputs": [
        {
          "name": "stdout",
          "output_type": "stream",
          "text": [
            "438/438 [==============================] - 1s 2ms/step\n"
          ]
        },
        {
          "data": {
            "image/png": "[encoded data removed]",
            "text/plain": [
              "<Figure size 1200x800 with 15 Axes>"
            ]
          },
          "metadata": {},
          "output_type": "display_data"
        }
      ],
      "source": [
        "# Membuat prediksi pada data pengujian\n",
        "predictions = model.predict(X_test_pca)\n",
        "y_pred = np.argmax(predictions, axis=1)\n",
        "\n",
        "# Menampilkan beberapa contoh hasil prediksi\n",
        "num_examples_to_show = 15  # Ubah sesuai kebutuhan\n",
        "\n",
        "# Mengatur tata letak subplot menjadi 3 baris dan 5 kolom (3x5)\n",
        "fig, axes = plt.subplots(3, 5, figsize=(12, 8))\n",
        "fig.subplots_adjust(hspace=0.5)\n",
        "\n",
        "for i in range(num_examples_to_show):\n",
        "    sample_image = X_test.iloc[i].values\n",
        "    actual_label = y_test.iloc[i]\n",
        "    predicted_label = y_pred[i]\n",
        "\n",
        "    # Menampilkan gambar di subplot yang sesuai\n",
        "    ax = axes[i // 5, i % 5]\n",
        "    ax.imshow(sample_image.reshape(28, 28), cmap='gray')\n",
        "\n",
        "    # Memeriksa apakah label sesuai\n",
        "    if actual_label == predicted_label:\n",
        "        title_color = 'black'\n",
        "    else:\n",
        "        title_color = 'red'\n",
        "\n",
        "    ax.set_title(f\"Actual: {actual_label}\\nPredicted: {predicted_label}\")\n",
        "    ax.axis('off')\n",
        "\n",
        "plt.tight_layout()\n",
        "plt.show()"
      ]
    },
    {
      "cell_type": "markdown",
      "metadata": {
        "id": "LjnTnCNclLh5"
      },
      "source": [
        "## Akurasi"
      ]
    },
    {
      "cell_type": "code",
      "execution_count": 12,
      "metadata": {
        "colab": {
          "base_uri": "https://localhost:8080/"
        },
        "id": "pfI0fVHjlMwq",
        "outputId": "244f5060-90aa-4c24-85f7-093cbd6afde6"
      },
      "outputs": [
        {
          "name": "stdout",
          "output_type": "stream",
          "text": [
            "438/438 [==============================] - 1s 2ms/step - loss: 0.2060 - accuracy: 0.9721\n",
            "Akurasi pada data pengujian: 0.97\n"
          ]
        }
      ],
      "source": [
        "test_loss, test_acc = model.evaluate(X_test_pca, y_test)\n",
        "print(f'Akurasi pada data pengujian: {test_acc:.2f}')"
      ]
    },
    {
      "cell_type": "code",
      "execution_count": 13,
      "metadata": {
        "colab": {
          "base_uri": "https://localhost:8080/"
        },
        "id": "TA1uazl3lOvN",
        "outputId": "1875b2d3-120c-4a6f-b6f8-240904b3a995"
      },
      "outputs": [
        {
          "name": "stdout",
          "output_type": "stream",
          "text": [
            "1750/1750 [==============================] - 5s 3ms/step - loss: 0.0399 - accuracy: 0.9926\n",
            "Akurasi pada data pelatihan: 0.99\n"
          ]
        }
      ],
      "source": [
        "train_loss, train_acc = model.evaluate(X_train_pca, y_train)\n",
        "print(f'Akurasi pada data pelatihan: {train_acc:.2f}')"
      ]
    },
    {
      "cell_type": "markdown",
      "metadata": {
        "id": "yf4rnB6hlRFt"
      },
      "source": [
        "## Confusion Matriks"
      ]
    },
    {
      "cell_type": "code",
      "execution_count": 14,
      "metadata": {
        "colab": {
          "base_uri": "https://localhost:8080/"
        },
        "id": "4MDN4OItlSQo",
        "outputId": "6486c13b-6795-41cd-f678-72e49f322708"
      },
      "outputs": [
        {
          "name": "stdout",
          "output_type": "stream",
          "text": [
            "Matriks Kebingungan:\n",
            "[[1316    1    8    0    1    3    7    1    5    1]\n",
            " [   0 1586    3    3    1    1    0    5    0    1]\n",
            " [   2    4 1348    7    3    2    2    5    6    1]\n",
            " [   0    1   14 1387    0   16    0    5    4    6]\n",
            " [   0    2    6    0 1237    3    3    3    1   40]\n",
            " [   2    4    1   12    0 1240    4    2    6    2]\n",
            " [   3    1    2    0    3   10 1374    0    3    0]\n",
            " [   2    2   19    2    4    1    0 1459    2   12]\n",
            " [   3    9   11   17    2   11    8    3 1285    8]\n",
            " [   5    4    1   11    6    4    0    8    3 1378]]\n"
          ]
        }
      ],
      "source": [
        "# Membuat matriks kebingungan\n",
        "confusion = confusion_matrix(y_test, y_pred)\n",
        "print('Matriks Kebingungan:')\n",
        "print(confusion)"
      ]
    },
    {
      "cell_type": "markdown",
      "metadata": {
        "id": "rMq33r8alUfR"
      },
      "source": [
        "## Konfigurasi Model\n",
        "* **Lapisan Input :** Lapisan ini menerima representasi gambar setelah reduksi dimensi PCA, dan meratakan data menjadi satu dimensi. Ini penting karena sebagian besar model ANN mengharapkan masukan dalam bentuk vektor satu dimensi.\n",
        "\n",
        "* **Hidden Layers:** Ada dua lapisan tersembunyi dengan aktivasi ReLU. Jumlah neuron pada lapisan pertama adalah 128, dan pada lapisan kedua adalah 64. Penggunaan ReLU digunakan untuk mengatasi masalah non-linearitas.\n",
        "\n",
        "* **Output Layer:** Lapisan keluaran memiliki 10 neuron, yang sesuai dengan jumlah kelas yang mungkin dalam klasifikasi digit dari 0 hingga 9. Penggunaan fungsi aktivasi softmax di lapisan ini menghasilkan probabilitas distribusi kelas, yang memungkinkan model mengeluarkan prediksi kelas yang paling mungkin.\n",
        "\n",
        "* **Learning Rate dan Optimizer :** Learning rate sebesar 0.001 digunakan dengan optimizer Adam. Nilai ini adalah pilihan yang umum dan seringkali memberikan konvergensi yang baik dalam pelatihan. Adam adalah optimizer yang efisien dan adaptif yang banyak digunakan dalam deep learning.\n",
        "\n",
        "*  **Fungsi kerugian yang digunakan 'sparse_categorical_crossentropy':** Fungsi ini mengukur kesalahan dalam klasifikasi dan membantu model untuk mengoptimalkan prediksi kelas."
      ]
    }
  ],
  "metadata": {
    "colab": {
      "provenance": []
    },
    "kernelspec": {
      "display_name": "Python 3",
      "name": "python3"
    },
    "language_info": {
      "name": "python"
    }
  },
  "nbformat": 4,
  "nbformat_minor": 0
}
